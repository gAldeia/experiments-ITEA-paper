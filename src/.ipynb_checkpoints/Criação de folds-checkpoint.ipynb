{
 "cells": [
  {
   "cell_type": "code",
   "execution_count": 8,
   "metadata": {},
   "outputs": [
    {
     "name": "stdout",
     "output_type": "stream",
     "text": [
      "Done\n"
     ]
    }
   ],
   "source": [
    "# https://epistasislab.github.io/penn-ml-benchmarks/\n",
    "\n",
    "import numpy as np\n",
    "\n",
    "import os\n",
    "import glob\n",
    "\n",
    "from sklearn.model_selection import KFold\n",
    "\n",
    "print('Done')"
   ]
  },
  {
   "cell_type": "code",
   "execution_count": 9,
   "metadata": {
    "scrolled": false
   },
   "outputs": [
    {
     "name": "stdout",
     "output_type": "stream",
     "text": [
      "GeographicalOriginalofMusic\n",
      "tecator\n"
     ]
    }
   ],
   "source": [
    "for dataset in glob.glob('../docs/datasets_without_traintestsplit/*'):\n",
    "    \n",
    "    # Carrego o dataset original\n",
    "    file = dataset.replace('../docs/datasets_without_traintestsplit/', '').replace('.tsv', '')\n",
    "\n",
    "    print(file)\n",
    "    \n",
    "    df = np.loadtxt(dataset, delimiter='\\t', skiprows=1)\n",
    "    X, y = df[:, :-1], df[:, -1]\n",
    "    \n",
    "    # Obtenho 5 folds. Para cada fold out, vou criar uma partição de treino e teste.\n",
    "    # Vou embaralhar pois tem datasets que vem ordenados seguindo alguma lógica\n",
    "    kf = KFold(n_splits=5, shuffle=True)\n",
    "    \n",
    "    for i, (train_index, test_index) in enumerate(kf.split(X)):\n",
    "        #print(\"TRAIN:\", train_index, \"TEST:\", test_index)\n",
    "\n",
    "        np.savetxt(f'../datasets/{file}-train-{i}.dat', X[train_index], delimiter=',')\n",
    "        np.savetxt(f'../datasets/{file}-test-{i}.dat', X[test_index], delimiter=',')"
   ]
  },
  {
   "cell_type": "code",
   "execution_count": null,
   "metadata": {},
   "outputs": [],
   "source": []
  }
 ],
 "metadata": {
  "kernelspec": {
   "display_name": "Python 3",
   "language": "python",
   "name": "python3"
  },
  "language_info": {
   "codemirror_mode": {
    "name": "ipython",
    "version": 3
   },
   "file_extension": ".py",
   "mimetype": "text/x-python",
   "name": "python",
   "nbconvert_exporter": "python",
   "pygments_lexer": "ipython3",
   "version": "3.6.9"
  }
 },
 "nbformat": 4,
 "nbformat_minor": 2
}
