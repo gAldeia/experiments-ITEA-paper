{
 "cells": [
  {
   "cell_type": "code",
   "execution_count": 3,
   "metadata": {},
   "outputs": [
    {
     "data": {
      "text/html": [
       "<style>\n",
       ".dataframe td {\n",
       "    white-space: nowrap;\n",
       "}\n",
       "</style>\n"
      ],
      "text/plain": [
       "<IPython.core.display.HTML object>"
      ]
     },
     "metadata": {},
     "output_type": "display_data"
    }
   ],
   "source": [
    "%%html\n",
    "<style>\n",
    ".dataframe td {\n",
    "    white-space: nowrap;\n",
    "}\n",
    "</style>"
   ]
  },
  {
   "cell_type": "code",
   "execution_count": 4,
   "metadata": {},
   "outputs": [
    {
     "name": "stdout",
     "output_type": "stream",
     "text": [
      "Done\n"
     ]
    }
   ],
   "source": [
    "import pandas as pd\n",
    "import numpy as np\n",
    "\n",
    "import matplotlib.pyplot as plt\n",
    "\n",
    "from IPython.display         import display, Markdown, Latex\n",
    "\n",
    "pd.set_option('display.max_colwidth', None)\n",
    "pd.set_option('display.expand_frame_repr', False)\n",
    "\n",
    "print('Done')"
   ]
  },
  {
   "cell_type": "code",
   "execution_count": 5,
   "metadata": {},
   "outputs": [],
   "source": [
    "files = [\n",
    "    # Regressão simbólica com algoritmos genéticos\n",
    "    # ITEA    - faltando\n",
    "    # FEAT    - faltando\n",
    "    # SymTree - faltando\n",
    "    'GSGP-resultsregression(novo)',\n",
    "    'gplearn-resultsregression',\n",
    "    'dcgp-resultsregression',\n",
    "    \n",
    "    # Árvores/knn\n",
    "    'forest-resultsregression',\n",
    "    'knn-resultsregression',\n",
    "    'tree-resultsregression',\n",
    "    \n",
    "    # Regressores lineares\n",
    "    'elnet-resultsregression',\n",
    "    'lasso-resultsregression',\n",
    "    'lassolars-resultsregression',\n",
    "    'ridge-resultsregression',\n",
    "]\n",
    "\n",
    "def highlight_min(s):\n",
    "    '''\n",
    "    highlight the maximum in a Series yellow.\n",
    "    '''\n",
    "    is_min = s == s.min()\n",
    "    return ['background-color: lightgreen' if v else '' for v in is_min]\n"
   ]
  },
  {
   "cell_type": "code",
   "execution_count": 6,
   "metadata": {
    "scrolled": false
   },
   "outputs": [
    {
     "name": "stdout",
     "output_type": "stream",
     "text": [
      "GSGP-resultsregression(novo)\n",
      "Estocástico\n",
      "               RMSE_train_mean  RMSE_test_mean  RMSE_train_std  RMSE_test_std\n",
      "dataset                                                                      \n",
      "Geographical         42.032963       44.350340        0.960309       1.507486\n",
      "airfoil              10.597684       10.597991        4.621630       4.350163\n",
      "concrete              7.240097        7.857217        0.738366       1.097733\n",
      "energyCooling         2.067702        2.130404        0.431474       0.420648\n",
      "energyHeating         1.500970        1.571454        0.451373       0.457086\n",
      "tecator               1.042092        1.410030        0.462202       0.562009\n",
      "towerData            63.838370       63.997013        4.702326       5.151672\n",
      "wineRed               0.624968        0.643030        0.006544       0.034485\n",
      "wineWhite             0.733948        0.739867        0.015091       0.017716\n",
      "yacht                 8.809734        9.032945        1.108111       1.034298\n",
      "gplearn-resultsregression\n",
      "Estocástico\n",
      "               RMSE_train_mean  RMSE_test_mean  RMSE_train_std  RMSE_test_std\n",
      "dataset                                                                      \n",
      "Geographical         49.659213       49.722853        2.576334       2.944317\n",
      "airfoil              10.277607       10.313680        7.257060       7.209525\n",
      "concrete             13.635340       13.653465        1.894632       2.090355\n",
      "energyCooling         4.441984        4.462157        0.906741       0.901309\n",
      "energyHeating         4.668405        4.667908        0.916323       0.969535\n",
      "tecator               2.996099        3.054761        0.632633       0.696317\n",
      "towerData            68.338342       68.611301        5.869170       6.592576\n",
      "wineRed               0.788688        0.790711        0.058086       0.072696\n",
      "wineWhite             0.872878        0.875645        0.045221       0.050068\n",
      "yacht                 6.383012        6.681948        2.453251       2.935274\n",
      "dcgp-resultsregression\n",
      "Estocástico\n",
      "               RMSE_train_mean  RMSE_test_mean  RMSE_train_std  RMSE_test_std\n",
      "dataset                                                                      \n",
      "Geographical         55.597305       63.745581        3.411872      46.898324\n",
      "airfoil               7.563105        7.545861        1.334553       1.381212\n",
      "concrete             19.447081       19.499374        2.418705       2.270004\n",
      "energyCooling        12.894605       12.840859        2.346743       2.246996\n",
      "energyHeating        13.735053       13.669918        2.017241       1.880084\n",
      "tecator               4.102555        4.101387        0.353487       0.426294\n",
      "towerData           106.337122      106.933651       24.033633      24.386087\n",
      "wineRed               1.141357        1.140067        0.973346       0.965135\n",
      "wineWhite             1.142949        1.144954        0.840545       0.833901\n",
      "yacht                17.085201       17.005250        1.764258       2.203958\n",
      "forest-resultsregression\n",
      "Estocástico\n",
      "               RMSE_train_mean  RMSE_test_mean  RMSE_train_std  RMSE_test_std\n",
      "dataset                                                                      \n",
      "Geographical         11.256832       25.776696        0.761433       3.649267\n",
      "airfoil               1.797514        2.374188        0.026971       0.074998\n",
      "concrete              2.966417        5.251025        0.074334       0.319429\n",
      "energyCooling         1.222559        1.790229        0.033167       0.123491\n",
      "energyHeating         0.404098        0.573646        0.010624       0.096424\n",
      "tecator               0.625537        1.250287        0.020078       0.121887\n",
      "towerData            12.966993       17.686688        0.415941       1.270119\n",
      "wineRed               0.338732        0.584588        0.004151       0.038321\n",
      "wineWhite             0.526742        0.663274        0.001612       0.010636\n",
      "yacht                 0.404213        1.073735        0.017950       0.311090\n",
      "knn-resultsregression\n",
      "Determinístico\n",
      "               RMSE_train_mean  RMSE_test_mean  RMSE_train_std  RMSE_test_std\n",
      "dataset                                                                      \n",
      "Geographical         31.514253       31.170637        0.520696       0.867050\n",
      "airfoil               5.895198        5.857116        0.083978       0.255150\n",
      "concrete              8.267080        7.853382        0.091001       0.733336\n",
      "energyCooling         1.971286        1.916236        0.040154       0.127112\n",
      "energyHeating         2.366636        2.320475        0.058063       0.424798\n",
      "tecator               1.391580        1.293588        0.036197       0.086805\n",
      "towerData            15.113805       14.806532        0.142306       0.851318\n",
      "wineRed               0.678045        0.657223        0.013981       0.049284\n",
      "wineWhite             0.707626        0.687557        0.009144       0.021037\n",
      "yacht                 8.751017        7.563321        0.684408       1.305219\n",
      "tree-resultsregression\n",
      "Estocástico\n",
      "               RMSE_train_mean  RMSE_test_mean  RMSE_train_std  RMSE_test_std\n",
      "dataset                                                                      \n",
      "Geographical         19.726993       31.915191        3.501007       7.423087\n",
      "airfoil               2.042391        2.929542        0.082785       0.100075\n",
      "concrete              2.900373        6.498246        0.156696       0.503454\n",
      "energyCooling         1.680333        1.849323        0.070456       0.141929\n",
      "energyHeating         0.339051        0.574651        0.026598       0.070192\n",
      "tecator               0.657844        1.675778        0.209207       0.151674\n",
      "towerData            13.551968       20.092641        0.521242       1.023665\n",
      "wineRed               0.595409        0.686906        0.010507       0.056612\n",
      "wineWhite             0.699220        0.746734        0.011040       0.016837\n",
      "yacht                 0.331100        1.441457        0.412505       0.258001\n",
      "elnet-resultsregression\n",
      "Determinístico\n",
      "               RMSE_train_mean  RMSE_test_mean  RMSE_train_std  RMSE_test_std\n",
      "dataset                                                                      \n",
      "Geographical         43.695421       43.207534        0.177815       1.162059\n",
      "airfoil               4.815805        4.819109        0.043535       0.174964\n",
      "concrete             10.472515       10.444388        0.116175       0.492413\n",
      "energyCooling         3.218601        3.214728        0.023577       0.110335\n",
      "energyHeating         2.956761        2.942103        0.053842       0.186955\n",
      "tecator               0.797875        0.748794        0.033544       0.082258\n",
      "towerData            30.662008       31.171837        1.027680       3.504789\n",
      "wineRed               0.651589        0.650721        0.007346       0.027776\n",
      "wineWhite             0.753137        0.753881        0.003258       0.011031\n",
      "yacht                 8.942034        8.965699        0.148782       0.709672\n",
      "lasso-resultsregression\n",
      "Determinístico\n",
      "               RMSE_train_mean  RMSE_test_mean  RMSE_train_std  RMSE_test_std\n",
      "dataset                                                                      \n",
      "Geographical         43.846400       43.282712        0.268645       1.021923\n",
      "airfoil               4.815830        4.819332        0.043554       0.174688\n",
      "concrete             10.473193       10.444567        0.116090       0.489237\n",
      "energyCooling         3.218601        3.214728        0.023577       0.110335\n",
      "energyHeating         2.956805        2.942179        0.053825       0.187512\n",
      "tecator               0.817637        0.755409        0.060591       0.088846\n",
      "towerData            30.868155       30.924260        1.138151       3.667316\n",
      "wineRed               0.651600        0.650688        0.007352       0.027833\n",
      "wineWhite             0.753137        0.753881        0.003258       0.011031\n",
      "yacht                 8.943990        8.943507        0.147567       0.699322\n",
      "lassolars-resultsregression\n",
      "Determinístico\n",
      "               RMSE_train_mean  RMSE_test_mean  RMSE_train_std  RMSE_test_std\n",
      "dataset                                                                      \n",
      "Geographical         44.416653       43.924488        0.110572       1.010007\n",
      "airfoil               4.815842        4.819303        0.043561       0.174549\n",
      "concrete             10.473144       10.444400        0.116066       0.488044\n",
      "energyCooling         3.218618        3.214734        0.023560       0.110456\n",
      "energyHeating         2.956808        2.942083        0.053813       0.187619\n",
      "tecator               0.804904        0.739213        0.056300       0.083262\n",
      "towerData            30.654959       30.564522        1.227018       3.455497\n",
      "wineRed               0.651917        0.651058        0.007361       0.028536\n",
      "wineWhite             0.753265        0.754367        0.003441       0.012027\n",
      "yacht                 8.945819        8.932252        0.157993       0.709959\n",
      "ridge-resultsregression\n",
      "Determinístico\n",
      "               RMSE_train_mean  RMSE_test_mean  RMSE_train_std  RMSE_test_std\n",
      "dataset                                                                      \n",
      "Geographical         43.715782       42.953212        0.256432       1.261400\n",
      "airfoil               4.815797        4.819309        0.043533       0.174734\n",
      "concrete             10.472337       10.444274        0.116246       0.493073\n",
      "energyCooling         3.218597        3.214723        0.023575       0.110293\n",
      "energyHeating         2.956771        2.942174        0.053829       0.187465\n",
      "tecator               0.797382        0.739217        0.037549       0.059906\n",
      "towerData            30.313409       30.646133        1.051863       3.530990\n",
      "wineRed               0.651612        0.650684        0.007351       0.027745\n",
      "wineWhite             0.753147        0.754345        0.003420       0.012759\n",
      "yacht                 8.954682        8.981900        0.157991       0.693257\n"
     ]
    }
   ],
   "source": [
    "RMSES_train = []\n",
    "RMSES_test  = []\n",
    "\n",
    "plot_train = []\n",
    "plot_test  = []\n",
    "\n",
    "for file in files:\n",
    "    print(file)\n",
    "    fname = f'{file}.csv'\n",
    "\n",
    "    # Arquivo com RMSE de treino e teste da melhor configuração para cada par treino-teste\n",
    "    resultsDF = pd.read_csv(fname)\n",
    "    \n",
    "    # Vendo se é o caso de algoritmo estocástico (várias repetições sobre cada par treino-teste)\n",
    "    # ou de determinísticos (única repetição para cada par)\n",
    "    if 'Rep' in resultsDF.columns:\n",
    "        print('Estocástico')\n",
    "        resultsDF_ = resultsDF.set_index(['dataset', 'Fold', 'Rep'])\n",
    "\n",
    "        # Tirando a média da melhor configuração em cada fold (e descartando 2 primeiras colunas, configuração e cv)\n",
    "        resultsDF_median = resultsDF_.groupby(['dataset']).mean().iloc[:, 2:]\n",
    "        resultsDF_median.columns = ['RMSE_train_mean', 'RMSE_test_mean']\n",
    "\n",
    "        # Colocando o desvio padrão e tirando as 2 primeiras colunas (fold e rep, não interessam)\n",
    "        resultsDF_std = resultsDF_.groupby(['dataset']).std().iloc[:, 2:]\n",
    "        resultsDF_std.columns = ['RMSE_train_std', 'RMSE_test_std']\n",
    "\n",
    "        # juntando tudo em um só\n",
    "        resultsDF_ = pd.merge(resultsDF_median, resultsDF_std, left_index=True, right_index=True)\n",
    "        \n",
    "        print(resultsDF_)\n",
    "    else:\n",
    "        print('Determinístico')\n",
    "        # Calculando as medianas e tirando a coluna de fold (configuração já some pois não é numérico)\n",
    "        # Note que a conf não é numérica apenas em algoritmos rápidos (os lineares)\n",
    "        resultsDF_median = resultsDF.groupby('dataset').mean().iloc[:, 1:]\n",
    "        resultsDF_median.columns = ['RMSE_train_mean', 'RMSE_test_mean']\n",
    "\n",
    "        # Colocando o desvio padrão \n",
    "        resultsDF_std = resultsDF.groupby('dataset').std().iloc[:, 1:]\n",
    "        resultsDF_std.columns = ['RMSE_train_std', 'RMSE_test_std']\n",
    "\n",
    "        # juntando tudo em um só\n",
    "        resultsDF_ = pd.merge(resultsDF_median, resultsDF_std, left_index=True, right_index=True)\n",
    "        print(resultsDF_)\n",
    "    \n",
    "    plot_train.append(pd.Series(\n",
    "        data = resultsDF_['RMSE_train_mean'],\n",
    "        index = resultsDF_.index,\n",
    "        name = file.replace('-resultsregression', '')\n",
    "    ))\n",
    "    \n",
    "    RMSES_train.append(pd.Series(\n",
    "        data = [f'{str(round(mean, 2))}\\pm{str(round(std, 2))}' for mean, std in \n",
    "                zip(resultsDF_['RMSE_train_mean'].values, resultsDF_['RMSE_train_std'].values)],\n",
    "        index = resultsDF_.index,\n",
    "        name = file.replace('-resultsregression', '')\n",
    "    ))\n",
    "    \n",
    "    plot_test.append(pd.Series(\n",
    "        data = resultsDF_['RMSE_test_mean'],\n",
    "        index = resultsDF_.index,\n",
    "        name = file.replace('-resultsregression', '')\n",
    "    ))\n",
    "    \n",
    "    RMSES_test.append(pd.Series(\n",
    "        data = [f'{str(round(mean, 2))}\\pm{str(round(std, 2))}' for mean, std in \n",
    "                zip(resultsDF_['RMSE_test_mean'].values, resultsDF_['RMSE_test_std'].values)],\n",
    "        index = resultsDF_.index,\n",
    "        name = file.replace('-resultsregression', '')\n",
    "    ))"
   ]
  },
  {
   "cell_type": "code",
   "execution_count": 7,
   "metadata": {
    "scrolled": false
   },
   "outputs": [
    {
     "data": {
      "text/markdown": [
       "# Partição de treino"
      ],
      "text/plain": [
       "<IPython.core.display.Markdown object>"
      ]
     },
     "metadata": {},
     "output_type": "display_data"
    },
    {
     "data": {
      "text/html": [
       "<style  type=\"text/css\" >\n",
       "#T_43ead802_eec1_11ea_b05b_94de80ab69b4row3_col0,#T_43ead802_eec1_11ea_b05b_94de80ab69b4row3_col2,#T_43ead802_eec1_11ea_b05b_94de80ab69b4row5_col3,#T_43ead802_eec1_11ea_b05b_94de80ab69b4row5_col4,#T_43ead802_eec1_11ea_b05b_94de80ab69b4row6_col1,#T_43ead802_eec1_11ea_b05b_94de80ab69b4row7_col1,#T_43ead802_eec1_11ea_b05b_94de80ab69b4row8_col1,#T_43ead802_eec1_11ea_b05b_94de80ab69b4row9_col1{\n",
       "            background-color:  lightgreen;\n",
       "        }</style><table id=\"T_43ead802_eec1_11ea_b05b_94de80ab69b4\" ><thead>    <tr>        <th class=\"index_name level0\" >dataset</th>        <th class=\"col_heading level0 col0\" >airfoil</th>        <th class=\"col_heading level0 col1\" >concrete</th>        <th class=\"col_heading level0 col2\" >energyCooling</th>        <th class=\"col_heading level0 col3\" >energyHeating</th>        <th class=\"col_heading level0 col4\" >yacht</th>    </tr></thead><tbody>\n",
       "                <tr>\n",
       "                        <th id=\"T_43ead802_eec1_11ea_b05b_94de80ab69b4level0_row0\" class=\"row_heading level0 row0\" >GSGP(novo)</th>\n",
       "                        <td id=\"T_43ead802_eec1_11ea_b05b_94de80ab69b4row0_col0\" class=\"data row0 col0\" >10.6\\pm4.62</td>\n",
       "                        <td id=\"T_43ead802_eec1_11ea_b05b_94de80ab69b4row0_col1\" class=\"data row0 col1\" >7.24\\pm0.74</td>\n",
       "                        <td id=\"T_43ead802_eec1_11ea_b05b_94de80ab69b4row0_col2\" class=\"data row0 col2\" >2.07\\pm0.43</td>\n",
       "                        <td id=\"T_43ead802_eec1_11ea_b05b_94de80ab69b4row0_col3\" class=\"data row0 col3\" >1.5\\pm0.45</td>\n",
       "                        <td id=\"T_43ead802_eec1_11ea_b05b_94de80ab69b4row0_col4\" class=\"data row0 col4\" >8.81\\pm1.11</td>\n",
       "            </tr>\n",
       "            <tr>\n",
       "                        <th id=\"T_43ead802_eec1_11ea_b05b_94de80ab69b4level0_row1\" class=\"row_heading level0 row1\" >gplearn</th>\n",
       "                        <td id=\"T_43ead802_eec1_11ea_b05b_94de80ab69b4row1_col0\" class=\"data row1 col0\" >10.28\\pm7.26</td>\n",
       "                        <td id=\"T_43ead802_eec1_11ea_b05b_94de80ab69b4row1_col1\" class=\"data row1 col1\" >13.64\\pm1.89</td>\n",
       "                        <td id=\"T_43ead802_eec1_11ea_b05b_94de80ab69b4row1_col2\" class=\"data row1 col2\" >4.44\\pm0.91</td>\n",
       "                        <td id=\"T_43ead802_eec1_11ea_b05b_94de80ab69b4row1_col3\" class=\"data row1 col3\" >4.67\\pm0.92</td>\n",
       "                        <td id=\"T_43ead802_eec1_11ea_b05b_94de80ab69b4row1_col4\" class=\"data row1 col4\" >6.38\\pm2.45</td>\n",
       "            </tr>\n",
       "            <tr>\n",
       "                        <th id=\"T_43ead802_eec1_11ea_b05b_94de80ab69b4level0_row2\" class=\"row_heading level0 row2\" >dcgp</th>\n",
       "                        <td id=\"T_43ead802_eec1_11ea_b05b_94de80ab69b4row2_col0\" class=\"data row2 col0\" >7.56\\pm1.33</td>\n",
       "                        <td id=\"T_43ead802_eec1_11ea_b05b_94de80ab69b4row2_col1\" class=\"data row2 col1\" >19.45\\pm2.42</td>\n",
       "                        <td id=\"T_43ead802_eec1_11ea_b05b_94de80ab69b4row2_col2\" class=\"data row2 col2\" >12.89\\pm2.35</td>\n",
       "                        <td id=\"T_43ead802_eec1_11ea_b05b_94de80ab69b4row2_col3\" class=\"data row2 col3\" >13.74\\pm2.02</td>\n",
       "                        <td id=\"T_43ead802_eec1_11ea_b05b_94de80ab69b4row2_col4\" class=\"data row2 col4\" >17.09\\pm1.76</td>\n",
       "            </tr>\n",
       "            <tr>\n",
       "                        <th id=\"T_43ead802_eec1_11ea_b05b_94de80ab69b4level0_row3\" class=\"row_heading level0 row3\" >forest</th>\n",
       "                        <td id=\"T_43ead802_eec1_11ea_b05b_94de80ab69b4row3_col0\" class=\"data row3 col0\" >1.8\\pm0.03</td>\n",
       "                        <td id=\"T_43ead802_eec1_11ea_b05b_94de80ab69b4row3_col1\" class=\"data row3 col1\" >2.97\\pm0.07</td>\n",
       "                        <td id=\"T_43ead802_eec1_11ea_b05b_94de80ab69b4row3_col2\" class=\"data row3 col2\" >1.22\\pm0.03</td>\n",
       "                        <td id=\"T_43ead802_eec1_11ea_b05b_94de80ab69b4row3_col3\" class=\"data row3 col3\" >0.4\\pm0.01</td>\n",
       "                        <td id=\"T_43ead802_eec1_11ea_b05b_94de80ab69b4row3_col4\" class=\"data row3 col4\" >0.4\\pm0.02</td>\n",
       "            </tr>\n",
       "            <tr>\n",
       "                        <th id=\"T_43ead802_eec1_11ea_b05b_94de80ab69b4level0_row4\" class=\"row_heading level0 row4\" >knn</th>\n",
       "                        <td id=\"T_43ead802_eec1_11ea_b05b_94de80ab69b4row4_col0\" class=\"data row4 col0\" >5.9\\pm0.08</td>\n",
       "                        <td id=\"T_43ead802_eec1_11ea_b05b_94de80ab69b4row4_col1\" class=\"data row4 col1\" >8.27\\pm0.09</td>\n",
       "                        <td id=\"T_43ead802_eec1_11ea_b05b_94de80ab69b4row4_col2\" class=\"data row4 col2\" >1.97\\pm0.04</td>\n",
       "                        <td id=\"T_43ead802_eec1_11ea_b05b_94de80ab69b4row4_col3\" class=\"data row4 col3\" >2.37\\pm0.06</td>\n",
       "                        <td id=\"T_43ead802_eec1_11ea_b05b_94de80ab69b4row4_col4\" class=\"data row4 col4\" >8.75\\pm0.68</td>\n",
       "            </tr>\n",
       "            <tr>\n",
       "                        <th id=\"T_43ead802_eec1_11ea_b05b_94de80ab69b4level0_row5\" class=\"row_heading level0 row5\" >tree</th>\n",
       "                        <td id=\"T_43ead802_eec1_11ea_b05b_94de80ab69b4row5_col0\" class=\"data row5 col0\" >2.04\\pm0.08</td>\n",
       "                        <td id=\"T_43ead802_eec1_11ea_b05b_94de80ab69b4row5_col1\" class=\"data row5 col1\" >2.9\\pm0.16</td>\n",
       "                        <td id=\"T_43ead802_eec1_11ea_b05b_94de80ab69b4row5_col2\" class=\"data row5 col2\" >1.68\\pm0.07</td>\n",
       "                        <td id=\"T_43ead802_eec1_11ea_b05b_94de80ab69b4row5_col3\" class=\"data row5 col3\" >0.34\\pm0.03</td>\n",
       "                        <td id=\"T_43ead802_eec1_11ea_b05b_94de80ab69b4row5_col4\" class=\"data row5 col4\" >0.33\\pm0.41</td>\n",
       "            </tr>\n",
       "            <tr>\n",
       "                        <th id=\"T_43ead802_eec1_11ea_b05b_94de80ab69b4level0_row6\" class=\"row_heading level0 row6\" >elnet</th>\n",
       "                        <td id=\"T_43ead802_eec1_11ea_b05b_94de80ab69b4row6_col0\" class=\"data row6 col0\" >4.82\\pm0.04</td>\n",
       "                        <td id=\"T_43ead802_eec1_11ea_b05b_94de80ab69b4row6_col1\" class=\"data row6 col1\" >10.47\\pm0.12</td>\n",
       "                        <td id=\"T_43ead802_eec1_11ea_b05b_94de80ab69b4row6_col2\" class=\"data row6 col2\" >3.22\\pm0.02</td>\n",
       "                        <td id=\"T_43ead802_eec1_11ea_b05b_94de80ab69b4row6_col3\" class=\"data row6 col3\" >2.96\\pm0.05</td>\n",
       "                        <td id=\"T_43ead802_eec1_11ea_b05b_94de80ab69b4row6_col4\" class=\"data row6 col4\" >8.94\\pm0.15</td>\n",
       "            </tr>\n",
       "            <tr>\n",
       "                        <th id=\"T_43ead802_eec1_11ea_b05b_94de80ab69b4level0_row7\" class=\"row_heading level0 row7\" >lasso</th>\n",
       "                        <td id=\"T_43ead802_eec1_11ea_b05b_94de80ab69b4row7_col0\" class=\"data row7 col0\" >4.82\\pm0.04</td>\n",
       "                        <td id=\"T_43ead802_eec1_11ea_b05b_94de80ab69b4row7_col1\" class=\"data row7 col1\" >10.47\\pm0.12</td>\n",
       "                        <td id=\"T_43ead802_eec1_11ea_b05b_94de80ab69b4row7_col2\" class=\"data row7 col2\" >3.22\\pm0.02</td>\n",
       "                        <td id=\"T_43ead802_eec1_11ea_b05b_94de80ab69b4row7_col3\" class=\"data row7 col3\" >2.96\\pm0.05</td>\n",
       "                        <td id=\"T_43ead802_eec1_11ea_b05b_94de80ab69b4row7_col4\" class=\"data row7 col4\" >8.94\\pm0.15</td>\n",
       "            </tr>\n",
       "            <tr>\n",
       "                        <th id=\"T_43ead802_eec1_11ea_b05b_94de80ab69b4level0_row8\" class=\"row_heading level0 row8\" >lassolars</th>\n",
       "                        <td id=\"T_43ead802_eec1_11ea_b05b_94de80ab69b4row8_col0\" class=\"data row8 col0\" >4.82\\pm0.04</td>\n",
       "                        <td id=\"T_43ead802_eec1_11ea_b05b_94de80ab69b4row8_col1\" class=\"data row8 col1\" >10.47\\pm0.12</td>\n",
       "                        <td id=\"T_43ead802_eec1_11ea_b05b_94de80ab69b4row8_col2\" class=\"data row8 col2\" >3.22\\pm0.02</td>\n",
       "                        <td id=\"T_43ead802_eec1_11ea_b05b_94de80ab69b4row8_col3\" class=\"data row8 col3\" >2.96\\pm0.05</td>\n",
       "                        <td id=\"T_43ead802_eec1_11ea_b05b_94de80ab69b4row8_col4\" class=\"data row8 col4\" >8.95\\pm0.16</td>\n",
       "            </tr>\n",
       "            <tr>\n",
       "                        <th id=\"T_43ead802_eec1_11ea_b05b_94de80ab69b4level0_row9\" class=\"row_heading level0 row9\" >ridge</th>\n",
       "                        <td id=\"T_43ead802_eec1_11ea_b05b_94de80ab69b4row9_col0\" class=\"data row9 col0\" >4.82\\pm0.04</td>\n",
       "                        <td id=\"T_43ead802_eec1_11ea_b05b_94de80ab69b4row9_col1\" class=\"data row9 col1\" >10.47\\pm0.12</td>\n",
       "                        <td id=\"T_43ead802_eec1_11ea_b05b_94de80ab69b4row9_col2\" class=\"data row9 col2\" >3.22\\pm0.02</td>\n",
       "                        <td id=\"T_43ead802_eec1_11ea_b05b_94de80ab69b4row9_col3\" class=\"data row9 col3\" >2.96\\pm0.05</td>\n",
       "                        <td id=\"T_43ead802_eec1_11ea_b05b_94de80ab69b4row9_col4\" class=\"data row9 col4\" >8.95\\pm0.16</td>\n",
       "            </tr>\n",
       "    </tbody></table>"
      ],
      "text/plain": [
       "<pandas.io.formats.style.Styler at 0x7f1a134dbdc0>"
      ]
     },
     "metadata": {},
     "output_type": "display_data"
    },
    {
     "name": "stdout",
     "output_type": "stream",
     "text": [
      "\\begin{tabular}{llllll}\n",
      "\\toprule\n",
      "dataset &       airfoil &      concrete & energyCooling & energyHeating &         yacht \\\\\n",
      "\\midrule\n",
      "GSGP(novo) &   10.6\\pm4.62 &   7.24\\pm0.74 &   2.07\\pm0.43 &    1.5\\pm0.45 &   8.81\\pm1.11 \\\\\n",
      "gplearn    &  10.28\\pm7.26 &  13.64\\pm1.89 &   4.44\\pm0.91 &   4.67\\pm0.92 &   6.38\\pm2.45 \\\\\n",
      "dcgp       &   7.56\\pm1.33 &  19.45\\pm2.42 &  12.89\\pm2.35 &  13.74\\pm2.02 &  17.09\\pm1.76 \\\\\n",
      "forest     &    1.8\\pm0.03 &   2.97\\pm0.07 &   1.22\\pm0.03 &    0.4\\pm0.01 &    0.4\\pm0.02 \\\\\n",
      "knn        &    5.9\\pm0.08 &   8.27\\pm0.09 &   1.97\\pm0.04 &   2.37\\pm0.06 &   8.75\\pm0.68 \\\\\n",
      "tree       &   2.04\\pm0.08 &    2.9\\pm0.16 &   1.68\\pm0.07 &   0.34\\pm0.03 &   0.33\\pm0.41 \\\\\n",
      "elnet      &   4.82\\pm0.04 &  10.47\\pm0.12 &   3.22\\pm0.02 &   2.96\\pm0.05 &   8.94\\pm0.15 \\\\\n",
      "lasso      &   4.82\\pm0.04 &  10.47\\pm0.12 &   3.22\\pm0.02 &   2.96\\pm0.05 &   8.94\\pm0.15 \\\\\n",
      "lassolars  &   4.82\\pm0.04 &  10.47\\pm0.12 &   3.22\\pm0.02 &   2.96\\pm0.05 &   8.95\\pm0.16 \\\\\n",
      "ridge      &   4.82\\pm0.04 &  10.47\\pm0.12 &   3.22\\pm0.02 &   2.96\\pm0.05 &   8.95\\pm0.16 \\\\\n",
      "\\bottomrule\n",
      "\\end{tabular}\n",
      "\n"
     ]
    }
   ],
   "source": [
    "display(Markdown('# Partição de treino'))\n",
    "\n",
    "# Juntando tudo\n",
    "df = pd.concat(RMSES_train, axis=1).T\n",
    "\n",
    "# Ordenando as colunas\n",
    "df = df[[\n",
    "    'airfoil',\n",
    "    'concrete',\n",
    "    'energyCooling',\n",
    "    'energyHeating',\n",
    "    #'Geographical',  # alta dimensionalidade\n",
    "    #'towerData',     # alta dimensionalidade\n",
    "    #'tecator',       # alta dimensionalidade\n",
    "    #'wineRed',       # alta dimensionalidade\n",
    "    #'wineWhite',     # alta dimensionalidade\n",
    "    'yacht',\n",
    "]]\n",
    "\n",
    "# Apresentando formatado\n",
    "display(df.style.apply(highlight_min))\n",
    "\n",
    "# Printando o código em latex\n",
    "print(df.to_latex(escape=False))"
   ]
  },
  {
   "cell_type": "code",
   "execution_count": 23,
   "metadata": {},
   "outputs": [
    {
     "data": {
      "text/markdown": [
       "# Partição de teste"
      ],
      "text/plain": [
       "<IPython.core.display.Markdown object>"
      ]
     },
     "metadata": {},
     "output_type": "display_data"
    },
    {
     "data": {
      "text/html": [
       "<style  type=\"text/css\" >\n",
       "#T_241f9374_ed71_11ea_910a_94de80ab69b4row1_col0,#T_241f9374_ed71_11ea_910a_94de80ab69b4row2_col5,#T_241f9374_ed71_11ea_910a_94de80ab69b4row3_col2,#T_241f9374_ed71_11ea_910a_94de80ab69b4row3_col4,#T_241f9374_ed71_11ea_910a_94de80ab69b4row3_col7,#T_241f9374_ed71_11ea_910a_94de80ab69b4row3_col8,#T_241f9374_ed71_11ea_910a_94de80ab69b4row3_col9,#T_241f9374_ed71_11ea_910a_94de80ab69b4row5_col3,#T_241f9374_ed71_11ea_910a_94de80ab69b4row6_col1,#T_241f9374_ed71_11ea_910a_94de80ab69b4row7_col1,#T_241f9374_ed71_11ea_910a_94de80ab69b4row8_col1,#T_241f9374_ed71_11ea_910a_94de80ab69b4row9_col1,#T_241f9374_ed71_11ea_910a_94de80ab69b4row9_col6{\n",
       "            background-color:  lightgreen;\n",
       "        }</style><table id=\"T_241f9374_ed71_11ea_910a_94de80ab69b4\" ><thead>    <tr>        <th class=\"index_name level0\" >dataset</th>        <th class=\"col_heading level0 col0\" >airfoil</th>        <th class=\"col_heading level0 col1\" >concrete</th>        <th class=\"col_heading level0 col2\" >energyCooling</th>        <th class=\"col_heading level0 col3\" >energyHeating</th>        <th class=\"col_heading level0 col4\" >Geographical</th>        <th class=\"col_heading level0 col5\" >towerData</th>        <th class=\"col_heading level0 col6\" >tecator</th>        <th class=\"col_heading level0 col7\" >wineRed</th>        <th class=\"col_heading level0 col8\" >wineWhite</th>        <th class=\"col_heading level0 col9\" >yacht</th>    </tr></thead><tbody>\n",
       "                <tr>\n",
       "                        <th id=\"T_241f9374_ed71_11ea_910a_94de80ab69b4level0_row0\" class=\"row_heading level0 row0\" >GSGP(novo)</th>\n",
       "                        <td id=\"T_241f9374_ed71_11ea_910a_94de80ab69b4row0_col0\" class=\"data row0 col0\" >10.6\\pm4.35</td>\n",
       "                        <td id=\"T_241f9374_ed71_11ea_910a_94de80ab69b4row0_col1\" class=\"data row0 col1\" >7.86\\pm1.1</td>\n",
       "                        <td id=\"T_241f9374_ed71_11ea_910a_94de80ab69b4row0_col2\" class=\"data row0 col2\" >2.13\\pm0.42</td>\n",
       "                        <td id=\"T_241f9374_ed71_11ea_910a_94de80ab69b4row0_col3\" class=\"data row0 col3\" >1.57\\pm0.46</td>\n",
       "                        <td id=\"T_241f9374_ed71_11ea_910a_94de80ab69b4row0_col4\" class=\"data row0 col4\" >44.35\\pm1.51</td>\n",
       "                        <td id=\"T_241f9374_ed71_11ea_910a_94de80ab69b4row0_col5\" class=\"data row0 col5\" >64.0\\pm5.15</td>\n",
       "                        <td id=\"T_241f9374_ed71_11ea_910a_94de80ab69b4row0_col6\" class=\"data row0 col6\" >1.41\\pm0.56</td>\n",
       "                        <td id=\"T_241f9374_ed71_11ea_910a_94de80ab69b4row0_col7\" class=\"data row0 col7\" >0.64\\pm0.03</td>\n",
       "                        <td id=\"T_241f9374_ed71_11ea_910a_94de80ab69b4row0_col8\" class=\"data row0 col8\" >0.74\\pm0.02</td>\n",
       "                        <td id=\"T_241f9374_ed71_11ea_910a_94de80ab69b4row0_col9\" class=\"data row0 col9\" >9.03\\pm1.03</td>\n",
       "            </tr>\n",
       "            <tr>\n",
       "                        <th id=\"T_241f9374_ed71_11ea_910a_94de80ab69b4level0_row1\" class=\"row_heading level0 row1\" >gplearn</th>\n",
       "                        <td id=\"T_241f9374_ed71_11ea_910a_94de80ab69b4row1_col0\" class=\"data row1 col0\" >10.31\\pm7.21</td>\n",
       "                        <td id=\"T_241f9374_ed71_11ea_910a_94de80ab69b4row1_col1\" class=\"data row1 col1\" >13.65\\pm2.09</td>\n",
       "                        <td id=\"T_241f9374_ed71_11ea_910a_94de80ab69b4row1_col2\" class=\"data row1 col2\" >4.46\\pm0.9</td>\n",
       "                        <td id=\"T_241f9374_ed71_11ea_910a_94de80ab69b4row1_col3\" class=\"data row1 col3\" >4.67\\pm0.97</td>\n",
       "                        <td id=\"T_241f9374_ed71_11ea_910a_94de80ab69b4row1_col4\" class=\"data row1 col4\" >49.72\\pm2.94</td>\n",
       "                        <td id=\"T_241f9374_ed71_11ea_910a_94de80ab69b4row1_col5\" class=\"data row1 col5\" >68.61\\pm6.59</td>\n",
       "                        <td id=\"T_241f9374_ed71_11ea_910a_94de80ab69b4row1_col6\" class=\"data row1 col6\" >3.05\\pm0.7</td>\n",
       "                        <td id=\"T_241f9374_ed71_11ea_910a_94de80ab69b4row1_col7\" class=\"data row1 col7\" >0.79\\pm0.07</td>\n",
       "                        <td id=\"T_241f9374_ed71_11ea_910a_94de80ab69b4row1_col8\" class=\"data row1 col8\" >0.88\\pm0.05</td>\n",
       "                        <td id=\"T_241f9374_ed71_11ea_910a_94de80ab69b4row1_col9\" class=\"data row1 col9\" >6.68\\pm2.94</td>\n",
       "            </tr>\n",
       "            <tr>\n",
       "                        <th id=\"T_241f9374_ed71_11ea_910a_94de80ab69b4level0_row2\" class=\"row_heading level0 row2\" >dcgp</th>\n",
       "                        <td id=\"T_241f9374_ed71_11ea_910a_94de80ab69b4row2_col0\" class=\"data row2 col0\" >7.55\\pm1.38</td>\n",
       "                        <td id=\"T_241f9374_ed71_11ea_910a_94de80ab69b4row2_col1\" class=\"data row2 col1\" >19.5\\pm2.27</td>\n",
       "                        <td id=\"T_241f9374_ed71_11ea_910a_94de80ab69b4row2_col2\" class=\"data row2 col2\" >12.84\\pm2.25</td>\n",
       "                        <td id=\"T_241f9374_ed71_11ea_910a_94de80ab69b4row2_col3\" class=\"data row2 col3\" >13.67\\pm1.88</td>\n",
       "                        <td id=\"T_241f9374_ed71_11ea_910a_94de80ab69b4row2_col4\" class=\"data row2 col4\" >63.75\\pm46.9</td>\n",
       "                        <td id=\"T_241f9374_ed71_11ea_910a_94de80ab69b4row2_col5\" class=\"data row2 col5\" >106.93\\pm24.39</td>\n",
       "                        <td id=\"T_241f9374_ed71_11ea_910a_94de80ab69b4row2_col6\" class=\"data row2 col6\" >4.1\\pm0.43</td>\n",
       "                        <td id=\"T_241f9374_ed71_11ea_910a_94de80ab69b4row2_col7\" class=\"data row2 col7\" >1.14\\pm0.97</td>\n",
       "                        <td id=\"T_241f9374_ed71_11ea_910a_94de80ab69b4row2_col8\" class=\"data row2 col8\" >1.14\\pm0.83</td>\n",
       "                        <td id=\"T_241f9374_ed71_11ea_910a_94de80ab69b4row2_col9\" class=\"data row2 col9\" >17.01\\pm2.2</td>\n",
       "            </tr>\n",
       "            <tr>\n",
       "                        <th id=\"T_241f9374_ed71_11ea_910a_94de80ab69b4level0_row3\" class=\"row_heading level0 row3\" >forest</th>\n",
       "                        <td id=\"T_241f9374_ed71_11ea_910a_94de80ab69b4row3_col0\" class=\"data row3 col0\" >2.37\\pm0.07</td>\n",
       "                        <td id=\"T_241f9374_ed71_11ea_910a_94de80ab69b4row3_col1\" class=\"data row3 col1\" >5.25\\pm0.32</td>\n",
       "                        <td id=\"T_241f9374_ed71_11ea_910a_94de80ab69b4row3_col2\" class=\"data row3 col2\" >1.79\\pm0.12</td>\n",
       "                        <td id=\"T_241f9374_ed71_11ea_910a_94de80ab69b4row3_col3\" class=\"data row3 col3\" >0.57\\pm0.1</td>\n",
       "                        <td id=\"T_241f9374_ed71_11ea_910a_94de80ab69b4row3_col4\" class=\"data row3 col4\" >25.78\\pm3.65</td>\n",
       "                        <td id=\"T_241f9374_ed71_11ea_910a_94de80ab69b4row3_col5\" class=\"data row3 col5\" >17.69\\pm1.27</td>\n",
       "                        <td id=\"T_241f9374_ed71_11ea_910a_94de80ab69b4row3_col6\" class=\"data row3 col6\" >1.25\\pm0.12</td>\n",
       "                        <td id=\"T_241f9374_ed71_11ea_910a_94de80ab69b4row3_col7\" class=\"data row3 col7\" >0.58\\pm0.04</td>\n",
       "                        <td id=\"T_241f9374_ed71_11ea_910a_94de80ab69b4row3_col8\" class=\"data row3 col8\" >0.66\\pm0.01</td>\n",
       "                        <td id=\"T_241f9374_ed71_11ea_910a_94de80ab69b4row3_col9\" class=\"data row3 col9\" >1.07\\pm0.31</td>\n",
       "            </tr>\n",
       "            <tr>\n",
       "                        <th id=\"T_241f9374_ed71_11ea_910a_94de80ab69b4level0_row4\" class=\"row_heading level0 row4\" >knn</th>\n",
       "                        <td id=\"T_241f9374_ed71_11ea_910a_94de80ab69b4row4_col0\" class=\"data row4 col0\" >5.86\\pm0.26</td>\n",
       "                        <td id=\"T_241f9374_ed71_11ea_910a_94de80ab69b4row4_col1\" class=\"data row4 col1\" >7.85\\pm0.73</td>\n",
       "                        <td id=\"T_241f9374_ed71_11ea_910a_94de80ab69b4row4_col2\" class=\"data row4 col2\" >1.92\\pm0.13</td>\n",
       "                        <td id=\"T_241f9374_ed71_11ea_910a_94de80ab69b4row4_col3\" class=\"data row4 col3\" >2.32\\pm0.42</td>\n",
       "                        <td id=\"T_241f9374_ed71_11ea_910a_94de80ab69b4row4_col4\" class=\"data row4 col4\" >31.17\\pm0.87</td>\n",
       "                        <td id=\"T_241f9374_ed71_11ea_910a_94de80ab69b4row4_col5\" class=\"data row4 col5\" >14.81\\pm0.85</td>\n",
       "                        <td id=\"T_241f9374_ed71_11ea_910a_94de80ab69b4row4_col6\" class=\"data row4 col6\" >1.29\\pm0.09</td>\n",
       "                        <td id=\"T_241f9374_ed71_11ea_910a_94de80ab69b4row4_col7\" class=\"data row4 col7\" >0.66\\pm0.05</td>\n",
       "                        <td id=\"T_241f9374_ed71_11ea_910a_94de80ab69b4row4_col8\" class=\"data row4 col8\" >0.69\\pm0.02</td>\n",
       "                        <td id=\"T_241f9374_ed71_11ea_910a_94de80ab69b4row4_col9\" class=\"data row4 col9\" >7.56\\pm1.31</td>\n",
       "            </tr>\n",
       "            <tr>\n",
       "                        <th id=\"T_241f9374_ed71_11ea_910a_94de80ab69b4level0_row5\" class=\"row_heading level0 row5\" >tree</th>\n",
       "                        <td id=\"T_241f9374_ed71_11ea_910a_94de80ab69b4row5_col0\" class=\"data row5 col0\" >2.93\\pm0.1</td>\n",
       "                        <td id=\"T_241f9374_ed71_11ea_910a_94de80ab69b4row5_col1\" class=\"data row5 col1\" >6.5\\pm0.5</td>\n",
       "                        <td id=\"T_241f9374_ed71_11ea_910a_94de80ab69b4row5_col2\" class=\"data row5 col2\" >1.85\\pm0.14</td>\n",
       "                        <td id=\"T_241f9374_ed71_11ea_910a_94de80ab69b4row5_col3\" class=\"data row5 col3\" >0.57\\pm0.07</td>\n",
       "                        <td id=\"T_241f9374_ed71_11ea_910a_94de80ab69b4row5_col4\" class=\"data row5 col4\" >31.92\\pm7.42</td>\n",
       "                        <td id=\"T_241f9374_ed71_11ea_910a_94de80ab69b4row5_col5\" class=\"data row5 col5\" >20.09\\pm1.02</td>\n",
       "                        <td id=\"T_241f9374_ed71_11ea_910a_94de80ab69b4row5_col6\" class=\"data row5 col6\" >1.68\\pm0.15</td>\n",
       "                        <td id=\"T_241f9374_ed71_11ea_910a_94de80ab69b4row5_col7\" class=\"data row5 col7\" >0.69\\pm0.06</td>\n",
       "                        <td id=\"T_241f9374_ed71_11ea_910a_94de80ab69b4row5_col8\" class=\"data row5 col8\" >0.75\\pm0.02</td>\n",
       "                        <td id=\"T_241f9374_ed71_11ea_910a_94de80ab69b4row5_col9\" class=\"data row5 col9\" >1.44\\pm0.26</td>\n",
       "            </tr>\n",
       "            <tr>\n",
       "                        <th id=\"T_241f9374_ed71_11ea_910a_94de80ab69b4level0_row6\" class=\"row_heading level0 row6\" >elnet</th>\n",
       "                        <td id=\"T_241f9374_ed71_11ea_910a_94de80ab69b4row6_col0\" class=\"data row6 col0\" >4.82\\pm0.17</td>\n",
       "                        <td id=\"T_241f9374_ed71_11ea_910a_94de80ab69b4row6_col1\" class=\"data row6 col1\" >10.44\\pm0.49</td>\n",
       "                        <td id=\"T_241f9374_ed71_11ea_910a_94de80ab69b4row6_col2\" class=\"data row6 col2\" >3.21\\pm0.11</td>\n",
       "                        <td id=\"T_241f9374_ed71_11ea_910a_94de80ab69b4row6_col3\" class=\"data row6 col3\" >2.94\\pm0.19</td>\n",
       "                        <td id=\"T_241f9374_ed71_11ea_910a_94de80ab69b4row6_col4\" class=\"data row6 col4\" >43.21\\pm1.16</td>\n",
       "                        <td id=\"T_241f9374_ed71_11ea_910a_94de80ab69b4row6_col5\" class=\"data row6 col5\" >31.17\\pm3.5</td>\n",
       "                        <td id=\"T_241f9374_ed71_11ea_910a_94de80ab69b4row6_col6\" class=\"data row6 col6\" >0.75\\pm0.08</td>\n",
       "                        <td id=\"T_241f9374_ed71_11ea_910a_94de80ab69b4row6_col7\" class=\"data row6 col7\" >0.65\\pm0.03</td>\n",
       "                        <td id=\"T_241f9374_ed71_11ea_910a_94de80ab69b4row6_col8\" class=\"data row6 col8\" >0.75\\pm0.01</td>\n",
       "                        <td id=\"T_241f9374_ed71_11ea_910a_94de80ab69b4row6_col9\" class=\"data row6 col9\" >8.97\\pm0.71</td>\n",
       "            </tr>\n",
       "            <tr>\n",
       "                        <th id=\"T_241f9374_ed71_11ea_910a_94de80ab69b4level0_row7\" class=\"row_heading level0 row7\" >lasso</th>\n",
       "                        <td id=\"T_241f9374_ed71_11ea_910a_94de80ab69b4row7_col0\" class=\"data row7 col0\" >4.82\\pm0.17</td>\n",
       "                        <td id=\"T_241f9374_ed71_11ea_910a_94de80ab69b4row7_col1\" class=\"data row7 col1\" >10.44\\pm0.49</td>\n",
       "                        <td id=\"T_241f9374_ed71_11ea_910a_94de80ab69b4row7_col2\" class=\"data row7 col2\" >3.21\\pm0.11</td>\n",
       "                        <td id=\"T_241f9374_ed71_11ea_910a_94de80ab69b4row7_col3\" class=\"data row7 col3\" >2.94\\pm0.19</td>\n",
       "                        <td id=\"T_241f9374_ed71_11ea_910a_94de80ab69b4row7_col4\" class=\"data row7 col4\" >43.28\\pm1.02</td>\n",
       "                        <td id=\"T_241f9374_ed71_11ea_910a_94de80ab69b4row7_col5\" class=\"data row7 col5\" >30.92\\pm3.67</td>\n",
       "                        <td id=\"T_241f9374_ed71_11ea_910a_94de80ab69b4row7_col6\" class=\"data row7 col6\" >0.76\\pm0.09</td>\n",
       "                        <td id=\"T_241f9374_ed71_11ea_910a_94de80ab69b4row7_col7\" class=\"data row7 col7\" >0.65\\pm0.03</td>\n",
       "                        <td id=\"T_241f9374_ed71_11ea_910a_94de80ab69b4row7_col8\" class=\"data row7 col8\" >0.75\\pm0.01</td>\n",
       "                        <td id=\"T_241f9374_ed71_11ea_910a_94de80ab69b4row7_col9\" class=\"data row7 col9\" >8.94\\pm0.7</td>\n",
       "            </tr>\n",
       "            <tr>\n",
       "                        <th id=\"T_241f9374_ed71_11ea_910a_94de80ab69b4level0_row8\" class=\"row_heading level0 row8\" >lassolars</th>\n",
       "                        <td id=\"T_241f9374_ed71_11ea_910a_94de80ab69b4row8_col0\" class=\"data row8 col0\" >4.82\\pm0.17</td>\n",
       "                        <td id=\"T_241f9374_ed71_11ea_910a_94de80ab69b4row8_col1\" class=\"data row8 col1\" >10.44\\pm0.49</td>\n",
       "                        <td id=\"T_241f9374_ed71_11ea_910a_94de80ab69b4row8_col2\" class=\"data row8 col2\" >3.21\\pm0.11</td>\n",
       "                        <td id=\"T_241f9374_ed71_11ea_910a_94de80ab69b4row8_col3\" class=\"data row8 col3\" >2.94\\pm0.19</td>\n",
       "                        <td id=\"T_241f9374_ed71_11ea_910a_94de80ab69b4row8_col4\" class=\"data row8 col4\" >43.92\\pm1.01</td>\n",
       "                        <td id=\"T_241f9374_ed71_11ea_910a_94de80ab69b4row8_col5\" class=\"data row8 col5\" >30.56\\pm3.46</td>\n",
       "                        <td id=\"T_241f9374_ed71_11ea_910a_94de80ab69b4row8_col6\" class=\"data row8 col6\" >0.74\\pm0.08</td>\n",
       "                        <td id=\"T_241f9374_ed71_11ea_910a_94de80ab69b4row8_col7\" class=\"data row8 col7\" >0.65\\pm0.03</td>\n",
       "                        <td id=\"T_241f9374_ed71_11ea_910a_94de80ab69b4row8_col8\" class=\"data row8 col8\" >0.75\\pm0.01</td>\n",
       "                        <td id=\"T_241f9374_ed71_11ea_910a_94de80ab69b4row8_col9\" class=\"data row8 col9\" >8.93\\pm0.71</td>\n",
       "            </tr>\n",
       "            <tr>\n",
       "                        <th id=\"T_241f9374_ed71_11ea_910a_94de80ab69b4level0_row9\" class=\"row_heading level0 row9\" >ridge</th>\n",
       "                        <td id=\"T_241f9374_ed71_11ea_910a_94de80ab69b4row9_col0\" class=\"data row9 col0\" >4.82\\pm0.17</td>\n",
       "                        <td id=\"T_241f9374_ed71_11ea_910a_94de80ab69b4row9_col1\" class=\"data row9 col1\" >10.44\\pm0.49</td>\n",
       "                        <td id=\"T_241f9374_ed71_11ea_910a_94de80ab69b4row9_col2\" class=\"data row9 col2\" >3.21\\pm0.11</td>\n",
       "                        <td id=\"T_241f9374_ed71_11ea_910a_94de80ab69b4row9_col3\" class=\"data row9 col3\" >2.94\\pm0.19</td>\n",
       "                        <td id=\"T_241f9374_ed71_11ea_910a_94de80ab69b4row9_col4\" class=\"data row9 col4\" >42.95\\pm1.26</td>\n",
       "                        <td id=\"T_241f9374_ed71_11ea_910a_94de80ab69b4row9_col5\" class=\"data row9 col5\" >30.65\\pm3.53</td>\n",
       "                        <td id=\"T_241f9374_ed71_11ea_910a_94de80ab69b4row9_col6\" class=\"data row9 col6\" >0.74\\pm0.06</td>\n",
       "                        <td id=\"T_241f9374_ed71_11ea_910a_94de80ab69b4row9_col7\" class=\"data row9 col7\" >0.65\\pm0.03</td>\n",
       "                        <td id=\"T_241f9374_ed71_11ea_910a_94de80ab69b4row9_col8\" class=\"data row9 col8\" >0.75\\pm0.01</td>\n",
       "                        <td id=\"T_241f9374_ed71_11ea_910a_94de80ab69b4row9_col9\" class=\"data row9 col9\" >8.98\\pm0.69</td>\n",
       "            </tr>\n",
       "    </tbody></table>"
      ],
      "text/plain": [
       "<pandas.io.formats.style.Styler at 0x7fb54023d550>"
      ]
     },
     "metadata": {},
     "output_type": "display_data"
    },
    {
     "name": "stdout",
     "output_type": "stream",
     "text": [
      "\\begin{tabular}{lllllllllll}\n",
      "\\toprule\n",
      "dataset &       airfoil &      concrete & energyCooling & energyHeating &  Geographical &       towerData &      tecator &      wineRed &    wineWhite &        yacht \\\\\n",
      "\\midrule\n",
      "GSGP(novo) &   10.6\\pm4.35 &    7.86\\pm1.1 &   2.13\\pm0.42 &   1.57\\pm0.46 &  44.35\\pm1.51 &     64.0\\pm5.15 &  1.41\\pm0.56 &  0.64\\pm0.03 &  0.74\\pm0.02 &  9.03\\pm1.03 \\\\\n",
      "gplearn    &  10.31\\pm7.21 &  13.65\\pm2.09 &    4.46\\pm0.9 &   4.67\\pm0.97 &  49.72\\pm2.94 &    68.61\\pm6.59 &   3.05\\pm0.7 &  0.79\\pm0.07 &  0.88\\pm0.05 &  6.68\\pm2.94 \\\\\n",
      "dcgp       &   7.55\\pm1.38 &   19.5\\pm2.27 &  12.84\\pm2.25 &  13.67\\pm1.88 &  63.75\\pm46.9 &  106.93\\pm24.39 &   4.1\\pm0.43 &  1.14\\pm0.97 &  1.14\\pm0.83 &  17.01\\pm2.2 \\\\\n",
      "forest     &   2.37\\pm0.07 &   5.25\\pm0.32 &   1.79\\pm0.12 &    0.57\\pm0.1 &  25.78\\pm3.65 &    17.69\\pm1.27 &  1.25\\pm0.12 &  0.58\\pm0.04 &  0.66\\pm0.01 &  1.07\\pm0.31 \\\\\n",
      "knn        &   5.86\\pm0.26 &   7.85\\pm0.73 &   1.92\\pm0.13 &   2.32\\pm0.42 &  31.17\\pm0.87 &    14.81\\pm0.85 &  1.29\\pm0.09 &  0.66\\pm0.05 &  0.69\\pm0.02 &  7.56\\pm1.31 \\\\\n",
      "tree       &    2.93\\pm0.1 &     6.5\\pm0.5 &   1.85\\pm0.14 &   0.57\\pm0.07 &  31.92\\pm7.42 &    20.09\\pm1.02 &  1.68\\pm0.15 &  0.69\\pm0.06 &  0.75\\pm0.02 &  1.44\\pm0.26 \\\\\n",
      "elnet      &   4.82\\pm0.17 &  10.44\\pm0.49 &   3.21\\pm0.11 &   2.94\\pm0.19 &  43.21\\pm1.16 &     31.17\\pm3.5 &  0.75\\pm0.08 &  0.65\\pm0.03 &  0.75\\pm0.01 &  8.97\\pm0.71 \\\\\n",
      "lasso      &   4.82\\pm0.17 &  10.44\\pm0.49 &   3.21\\pm0.11 &   2.94\\pm0.19 &  43.28\\pm1.02 &    30.92\\pm3.67 &  0.76\\pm0.09 &  0.65\\pm0.03 &  0.75\\pm0.01 &   8.94\\pm0.7 \\\\\n",
      "lassolars  &   4.82\\pm0.17 &  10.44\\pm0.49 &   3.21\\pm0.11 &   2.94\\pm0.19 &  43.92\\pm1.01 &    30.56\\pm3.46 &  0.74\\pm0.08 &  0.65\\pm0.03 &  0.75\\pm0.01 &  8.93\\pm0.71 \\\\\n",
      "ridge      &   4.82\\pm0.17 &  10.44\\pm0.49 &   3.21\\pm0.11 &   2.94\\pm0.19 &  42.95\\pm1.26 &    30.65\\pm3.53 &  0.74\\pm0.06 &  0.65\\pm0.03 &  0.75\\pm0.01 &  8.98\\pm0.69 \\\\\n",
      "\\bottomrule\n",
      "\\end{tabular}\n",
      "\n"
     ]
    }
   ],
   "source": [
    "display(Markdown('# Partição de teste'))\n",
    "df = pd.concat(RMSES_test, axis=1).T\n",
    "\n",
    "# Ordenando as colunas\n",
    "df = df[[\n",
    "    'airfoil',\n",
    "    'concrete',\n",
    "    'energyCooling',\n",
    "    'energyHeating',\n",
    "    'Geographical',\n",
    "    'towerData',\n",
    "    'tecator',\n",
    "    'wineRed',\n",
    "    'wineWhite',\n",
    "    'yacht',\n",
    "]]\n",
    "\n",
    "# Apresentando formatado\n",
    "display(df.style.apply(highlight_min))\n",
    "\n",
    "# Printando o código em latex\n",
    "print(df.to_latex(escape=False))"
   ]
  },
  {
   "cell_type": "code",
   "execution_count": 21,
   "metadata": {},
   "outputs": [
    {
     "data": {
      "text/markdown": [
       "# Partição de treino"
      ],
      "text/plain": [
       "<IPython.core.display.Markdown object>"
      ]
     },
     "metadata": {},
     "output_type": "display_data"
    },
    {
     "data": {
      "text/markdown": [
       "## Grupo 1 - GSGP, GP, DCGP, ITEA, SymTree, FEAT"
      ],
      "text/plain": [
       "<IPython.core.display.Markdown object>"
      ]
     },
     "metadata": {},
     "output_type": "display_data"
    },
    {
     "data": {
      "text/html": [
       "<style  type=\"text/css\" >\n",
       "#T_89232fa2_ed3e_11ea_a435_94de80ab69b4row0_col0,#T_89232fa2_ed3e_11ea_a435_94de80ab69b4row0_col4,#T_89232fa2_ed3e_11ea_a435_94de80ab69b4row0_col5,#T_89232fa2_ed3e_11ea_a435_94de80ab69b4row0_col7,#T_89232fa2_ed3e_11ea_a435_94de80ab69b4row0_col8,#T_89232fa2_ed3e_11ea_a435_94de80ab69b4row1_col1,#T_89232fa2_ed3e_11ea_a435_94de80ab69b4row1_col2,#T_89232fa2_ed3e_11ea_a435_94de80ab69b4row2_col3,#T_89232fa2_ed3e_11ea_a435_94de80ab69b4row2_col6,#T_89232fa2_ed3e_11ea_a435_94de80ab69b4row2_col9{\n",
       "            background-color:  lightgreen;\n",
       "        }</style><table id=\"T_89232fa2_ed3e_11ea_a435_94de80ab69b4\" ><thead>    <tr>        <th class=\"index_name level0\" >dataset</th>        <th class=\"col_heading level0 col0\" >Geographical</th>        <th class=\"col_heading level0 col1\" >airfoil</th>        <th class=\"col_heading level0 col2\" >concrete</th>        <th class=\"col_heading level0 col3\" >energyCooling</th>        <th class=\"col_heading level0 col4\" >energyHeating</th>        <th class=\"col_heading level0 col5\" >tecator</th>        <th class=\"col_heading level0 col6\" >towerData</th>        <th class=\"col_heading level0 col7\" >wineRed</th>        <th class=\"col_heading level0 col8\" >wineWhite</th>        <th class=\"col_heading level0 col9\" >yacht</th>    </tr></thead><tbody>\n",
       "                <tr>\n",
       "                        <th id=\"T_89232fa2_ed3e_11ea_a435_94de80ab69b4level0_row0\" class=\"row_heading level0 row0\" >GSGP(novo)</th>\n",
       "                        <td id=\"T_89232fa2_ed3e_11ea_a435_94de80ab69b4row0_col0\" class=\"data row0 col0\" >$42.03\\pm0.96$</td>\n",
       "                        <td id=\"T_89232fa2_ed3e_11ea_a435_94de80ab69b4row0_col1\" class=\"data row0 col1\" >$10.6\\pm4.62$</td>\n",
       "                        <td id=\"T_89232fa2_ed3e_11ea_a435_94de80ab69b4row0_col2\" class=\"data row0 col2\" >$7.24\\pm0.74$</td>\n",
       "                        <td id=\"T_89232fa2_ed3e_11ea_a435_94de80ab69b4row0_col3\" class=\"data row0 col3\" >$2.07\\pm0.43$</td>\n",
       "                        <td id=\"T_89232fa2_ed3e_11ea_a435_94de80ab69b4row0_col4\" class=\"data row0 col4\" >$1.5\\pm0.45$</td>\n",
       "                        <td id=\"T_89232fa2_ed3e_11ea_a435_94de80ab69b4row0_col5\" class=\"data row0 col5\" >$1.04\\pm0.46$</td>\n",
       "                        <td id=\"T_89232fa2_ed3e_11ea_a435_94de80ab69b4row0_col6\" class=\"data row0 col6\" >$63.84\\pm4.7$</td>\n",
       "                        <td id=\"T_89232fa2_ed3e_11ea_a435_94de80ab69b4row0_col7\" class=\"data row0 col7\" >$0.62\\pm0.01$</td>\n",
       "                        <td id=\"T_89232fa2_ed3e_11ea_a435_94de80ab69b4row0_col8\" class=\"data row0 col8\" >$0.73\\pm0.02$</td>\n",
       "                        <td id=\"T_89232fa2_ed3e_11ea_a435_94de80ab69b4row0_col9\" class=\"data row0 col9\" >$8.81\\pm1.11$</td>\n",
       "            </tr>\n",
       "            <tr>\n",
       "                        <th id=\"T_89232fa2_ed3e_11ea_a435_94de80ab69b4level0_row1\" class=\"row_heading level0 row1\" >gplearn</th>\n",
       "                        <td id=\"T_89232fa2_ed3e_11ea_a435_94de80ab69b4row1_col0\" class=\"data row1 col0\" >$49.66\\pm2.58$</td>\n",
       "                        <td id=\"T_89232fa2_ed3e_11ea_a435_94de80ab69b4row1_col1\" class=\"data row1 col1\" >$10.28\\pm7.26$</td>\n",
       "                        <td id=\"T_89232fa2_ed3e_11ea_a435_94de80ab69b4row1_col2\" class=\"data row1 col2\" >$13.64\\pm1.89$</td>\n",
       "                        <td id=\"T_89232fa2_ed3e_11ea_a435_94de80ab69b4row1_col3\" class=\"data row1 col3\" >$4.44\\pm0.91$</td>\n",
       "                        <td id=\"T_89232fa2_ed3e_11ea_a435_94de80ab69b4row1_col4\" class=\"data row1 col4\" >$4.67\\pm0.92$</td>\n",
       "                        <td id=\"T_89232fa2_ed3e_11ea_a435_94de80ab69b4row1_col5\" class=\"data row1 col5\" >$3.0\\pm0.63$</td>\n",
       "                        <td id=\"T_89232fa2_ed3e_11ea_a435_94de80ab69b4row1_col6\" class=\"data row1 col6\" >$68.34\\pm5.87$</td>\n",
       "                        <td id=\"T_89232fa2_ed3e_11ea_a435_94de80ab69b4row1_col7\" class=\"data row1 col7\" >$0.79\\pm0.06$</td>\n",
       "                        <td id=\"T_89232fa2_ed3e_11ea_a435_94de80ab69b4row1_col8\" class=\"data row1 col8\" >$0.87\\pm0.05$</td>\n",
       "                        <td id=\"T_89232fa2_ed3e_11ea_a435_94de80ab69b4row1_col9\" class=\"data row1 col9\" >$6.38\\pm2.45$</td>\n",
       "            </tr>\n",
       "            <tr>\n",
       "                        <th id=\"T_89232fa2_ed3e_11ea_a435_94de80ab69b4level0_row2\" class=\"row_heading level0 row2\" >dcgp</th>\n",
       "                        <td id=\"T_89232fa2_ed3e_11ea_a435_94de80ab69b4row2_col0\" class=\"data row2 col0\" >$55.6\\pm3.41$</td>\n",
       "                        <td id=\"T_89232fa2_ed3e_11ea_a435_94de80ab69b4row2_col1\" class=\"data row2 col1\" >$7.56\\pm1.33$</td>\n",
       "                        <td id=\"T_89232fa2_ed3e_11ea_a435_94de80ab69b4row2_col2\" class=\"data row2 col2\" >$19.45\\pm2.42$</td>\n",
       "                        <td id=\"T_89232fa2_ed3e_11ea_a435_94de80ab69b4row2_col3\" class=\"data row2 col3\" >$12.89\\pm2.35$</td>\n",
       "                        <td id=\"T_89232fa2_ed3e_11ea_a435_94de80ab69b4row2_col4\" class=\"data row2 col4\" >$13.74\\pm2.02$</td>\n",
       "                        <td id=\"T_89232fa2_ed3e_11ea_a435_94de80ab69b4row2_col5\" class=\"data row2 col5\" >$4.1\\pm0.35$</td>\n",
       "                        <td id=\"T_89232fa2_ed3e_11ea_a435_94de80ab69b4row2_col6\" class=\"data row2 col6\" >$106.34\\pm24.03$</td>\n",
       "                        <td id=\"T_89232fa2_ed3e_11ea_a435_94de80ab69b4row2_col7\" class=\"data row2 col7\" >$1.14\\pm0.97$</td>\n",
       "                        <td id=\"T_89232fa2_ed3e_11ea_a435_94de80ab69b4row2_col8\" class=\"data row2 col8\" >$1.14\\pm0.84$</td>\n",
       "                        <td id=\"T_89232fa2_ed3e_11ea_a435_94de80ab69b4row2_col9\" class=\"data row2 col9\" >$17.09\\pm1.76$</td>\n",
       "            </tr>\n",
       "    </tbody></table>"
      ],
      "text/plain": [
       "<pandas.io.formats.style.Styler at 0x7f15a115b9a0>"
      ]
     },
     "metadata": {},
     "output_type": "display_data"
    },
    {
     "data": {
      "text/markdown": [
       "## Grupo 2 - KNN, Forest, Tree"
      ],
      "text/plain": [
       "<IPython.core.display.Markdown object>"
      ]
     },
     "metadata": {},
     "output_type": "display_data"
    },
    {
     "data": {
      "text/html": [
       "<style  type=\"text/css\" >\n",
       "#T_89268fd0_ed3e_11ea_a435_94de80ab69b4row0_col0,#T_89268fd0_ed3e_11ea_a435_94de80ab69b4row0_col1,#T_89268fd0_ed3e_11ea_a435_94de80ab69b4row0_col2,#T_89268fd0_ed3e_11ea_a435_94de80ab69b4row0_col3,#T_89268fd0_ed3e_11ea_a435_94de80ab69b4row0_col5,#T_89268fd0_ed3e_11ea_a435_94de80ab69b4row0_col6,#T_89268fd0_ed3e_11ea_a435_94de80ab69b4row0_col7,#T_89268fd0_ed3e_11ea_a435_94de80ab69b4row0_col8,#T_89268fd0_ed3e_11ea_a435_94de80ab69b4row2_col4,#T_89268fd0_ed3e_11ea_a435_94de80ab69b4row2_col9{\n",
       "            background-color:  lightgreen;\n",
       "        }</style><table id=\"T_89268fd0_ed3e_11ea_a435_94de80ab69b4\" ><thead>    <tr>        <th class=\"index_name level0\" >dataset</th>        <th class=\"col_heading level0 col0\" >Geographical</th>        <th class=\"col_heading level0 col1\" >airfoil</th>        <th class=\"col_heading level0 col2\" >concrete</th>        <th class=\"col_heading level0 col3\" >energyCooling</th>        <th class=\"col_heading level0 col4\" >energyHeating</th>        <th class=\"col_heading level0 col5\" >tecator</th>        <th class=\"col_heading level0 col6\" >towerData</th>        <th class=\"col_heading level0 col7\" >wineRed</th>        <th class=\"col_heading level0 col8\" >wineWhite</th>        <th class=\"col_heading level0 col9\" >yacht</th>    </tr></thead><tbody>\n",
       "                <tr>\n",
       "                        <th id=\"T_89268fd0_ed3e_11ea_a435_94de80ab69b4level0_row0\" class=\"row_heading level0 row0\" >forest</th>\n",
       "                        <td id=\"T_89268fd0_ed3e_11ea_a435_94de80ab69b4row0_col0\" class=\"data row0 col0\" >$11.26\\pm0.76$</td>\n",
       "                        <td id=\"T_89268fd0_ed3e_11ea_a435_94de80ab69b4row0_col1\" class=\"data row0 col1\" >$1.8\\pm0.03$</td>\n",
       "                        <td id=\"T_89268fd0_ed3e_11ea_a435_94de80ab69b4row0_col2\" class=\"data row0 col2\" >$2.97\\pm0.07$</td>\n",
       "                        <td id=\"T_89268fd0_ed3e_11ea_a435_94de80ab69b4row0_col3\" class=\"data row0 col3\" >$1.22\\pm0.03$</td>\n",
       "                        <td id=\"T_89268fd0_ed3e_11ea_a435_94de80ab69b4row0_col4\" class=\"data row0 col4\" >$0.4\\pm0.01$</td>\n",
       "                        <td id=\"T_89268fd0_ed3e_11ea_a435_94de80ab69b4row0_col5\" class=\"data row0 col5\" >$0.63\\pm0.02$</td>\n",
       "                        <td id=\"T_89268fd0_ed3e_11ea_a435_94de80ab69b4row0_col6\" class=\"data row0 col6\" >$12.97\\pm0.42$</td>\n",
       "                        <td id=\"T_89268fd0_ed3e_11ea_a435_94de80ab69b4row0_col7\" class=\"data row0 col7\" >$0.34\\pm0.0$</td>\n",
       "                        <td id=\"T_89268fd0_ed3e_11ea_a435_94de80ab69b4row0_col8\" class=\"data row0 col8\" >$0.53\\pm0.0$</td>\n",
       "                        <td id=\"T_89268fd0_ed3e_11ea_a435_94de80ab69b4row0_col9\" class=\"data row0 col9\" >$0.4\\pm0.02$</td>\n",
       "            </tr>\n",
       "            <tr>\n",
       "                        <th id=\"T_89268fd0_ed3e_11ea_a435_94de80ab69b4level0_row1\" class=\"row_heading level0 row1\" >knn</th>\n",
       "                        <td id=\"T_89268fd0_ed3e_11ea_a435_94de80ab69b4row1_col0\" class=\"data row1 col0\" >$31.51\\pm0.52$</td>\n",
       "                        <td id=\"T_89268fd0_ed3e_11ea_a435_94de80ab69b4row1_col1\" class=\"data row1 col1\" >$5.9\\pm0.08$</td>\n",
       "                        <td id=\"T_89268fd0_ed3e_11ea_a435_94de80ab69b4row1_col2\" class=\"data row1 col2\" >$8.27\\pm0.09$</td>\n",
       "                        <td id=\"T_89268fd0_ed3e_11ea_a435_94de80ab69b4row1_col3\" class=\"data row1 col3\" >$1.97\\pm0.04$</td>\n",
       "                        <td id=\"T_89268fd0_ed3e_11ea_a435_94de80ab69b4row1_col4\" class=\"data row1 col4\" >$2.37\\pm0.06$</td>\n",
       "                        <td id=\"T_89268fd0_ed3e_11ea_a435_94de80ab69b4row1_col5\" class=\"data row1 col5\" >$1.39\\pm0.04$</td>\n",
       "                        <td id=\"T_89268fd0_ed3e_11ea_a435_94de80ab69b4row1_col6\" class=\"data row1 col6\" >$15.11\\pm0.14$</td>\n",
       "                        <td id=\"T_89268fd0_ed3e_11ea_a435_94de80ab69b4row1_col7\" class=\"data row1 col7\" >$0.68\\pm0.01$</td>\n",
       "                        <td id=\"T_89268fd0_ed3e_11ea_a435_94de80ab69b4row1_col8\" class=\"data row1 col8\" >$0.71\\pm0.01$</td>\n",
       "                        <td id=\"T_89268fd0_ed3e_11ea_a435_94de80ab69b4row1_col9\" class=\"data row1 col9\" >$8.75\\pm0.68$</td>\n",
       "            </tr>\n",
       "            <tr>\n",
       "                        <th id=\"T_89268fd0_ed3e_11ea_a435_94de80ab69b4level0_row2\" class=\"row_heading level0 row2\" >tree</th>\n",
       "                        <td id=\"T_89268fd0_ed3e_11ea_a435_94de80ab69b4row2_col0\" class=\"data row2 col0\" >$19.73\\pm3.5$</td>\n",
       "                        <td id=\"T_89268fd0_ed3e_11ea_a435_94de80ab69b4row2_col1\" class=\"data row2 col1\" >$2.04\\pm0.08$</td>\n",
       "                        <td id=\"T_89268fd0_ed3e_11ea_a435_94de80ab69b4row2_col2\" class=\"data row2 col2\" >$2.9\\pm0.16$</td>\n",
       "                        <td id=\"T_89268fd0_ed3e_11ea_a435_94de80ab69b4row2_col3\" class=\"data row2 col3\" >$1.68\\pm0.07$</td>\n",
       "                        <td id=\"T_89268fd0_ed3e_11ea_a435_94de80ab69b4row2_col4\" class=\"data row2 col4\" >$0.34\\pm0.03$</td>\n",
       "                        <td id=\"T_89268fd0_ed3e_11ea_a435_94de80ab69b4row2_col5\" class=\"data row2 col5\" >$0.66\\pm0.21$</td>\n",
       "                        <td id=\"T_89268fd0_ed3e_11ea_a435_94de80ab69b4row2_col6\" class=\"data row2 col6\" >$13.55\\pm0.52$</td>\n",
       "                        <td id=\"T_89268fd0_ed3e_11ea_a435_94de80ab69b4row2_col7\" class=\"data row2 col7\" >$0.6\\pm0.01$</td>\n",
       "                        <td id=\"T_89268fd0_ed3e_11ea_a435_94de80ab69b4row2_col8\" class=\"data row2 col8\" >$0.7\\pm0.01$</td>\n",
       "                        <td id=\"T_89268fd0_ed3e_11ea_a435_94de80ab69b4row2_col9\" class=\"data row2 col9\" >$0.33\\pm0.41$</td>\n",
       "            </tr>\n",
       "    </tbody></table>"
      ],
      "text/plain": [
       "<pandas.io.formats.style.Styler at 0x7f15d2f52a00>"
      ]
     },
     "metadata": {},
     "output_type": "display_data"
    },
    {
     "data": {
      "text/markdown": [
       "## Grupo 3 - ElNet, Lasso, Lars, Ridge"
      ],
      "text/plain": [
       "<IPython.core.display.Markdown object>"
      ]
     },
     "metadata": {},
     "output_type": "display_data"
    },
    {
     "data": {
      "text/html": [
       "<style  type=\"text/css\" >\n",
       "#T_8929ea2c_ed3e_11ea_a435_94de80ab69b4row0_col1,#T_8929ea2c_ed3e_11ea_a435_94de80ab69b4row0_col2,#T_8929ea2c_ed3e_11ea_a435_94de80ab69b4row0_col3,#T_8929ea2c_ed3e_11ea_a435_94de80ab69b4row0_col4,#T_8929ea2c_ed3e_11ea_a435_94de80ab69b4row0_col7,#T_8929ea2c_ed3e_11ea_a435_94de80ab69b4row0_col8,#T_8929ea2c_ed3e_11ea_a435_94de80ab69b4row0_col9,#T_8929ea2c_ed3e_11ea_a435_94de80ab69b4row1_col1,#T_8929ea2c_ed3e_11ea_a435_94de80ab69b4row1_col2,#T_8929ea2c_ed3e_11ea_a435_94de80ab69b4row1_col3,#T_8929ea2c_ed3e_11ea_a435_94de80ab69b4row1_col4,#T_8929ea2c_ed3e_11ea_a435_94de80ab69b4row1_col5,#T_8929ea2c_ed3e_11ea_a435_94de80ab69b4row1_col7,#T_8929ea2c_ed3e_11ea_a435_94de80ab69b4row1_col8,#T_8929ea2c_ed3e_11ea_a435_94de80ab69b4row1_col9,#T_8929ea2c_ed3e_11ea_a435_94de80ab69b4row2_col1,#T_8929ea2c_ed3e_11ea_a435_94de80ab69b4row2_col2,#T_8929ea2c_ed3e_11ea_a435_94de80ab69b4row2_col3,#T_8929ea2c_ed3e_11ea_a435_94de80ab69b4row2_col4,#T_8929ea2c_ed3e_11ea_a435_94de80ab69b4row2_col7,#T_8929ea2c_ed3e_11ea_a435_94de80ab69b4row2_col8,#T_8929ea2c_ed3e_11ea_a435_94de80ab69b4row3_col0,#T_8929ea2c_ed3e_11ea_a435_94de80ab69b4row3_col1,#T_8929ea2c_ed3e_11ea_a435_94de80ab69b4row3_col2,#T_8929ea2c_ed3e_11ea_a435_94de80ab69b4row3_col3,#T_8929ea2c_ed3e_11ea_a435_94de80ab69b4row3_col4,#T_8929ea2c_ed3e_11ea_a435_94de80ab69b4row3_col6,#T_8929ea2c_ed3e_11ea_a435_94de80ab69b4row3_col7,#T_8929ea2c_ed3e_11ea_a435_94de80ab69b4row3_col8{\n",
       "            background-color:  lightgreen;\n",
       "        }</style><table id=\"T_8929ea2c_ed3e_11ea_a435_94de80ab69b4\" ><thead>    <tr>        <th class=\"index_name level0\" >dataset</th>        <th class=\"col_heading level0 col0\" >Geographical</th>        <th class=\"col_heading level0 col1\" >airfoil</th>        <th class=\"col_heading level0 col2\" >concrete</th>        <th class=\"col_heading level0 col3\" >energyCooling</th>        <th class=\"col_heading level0 col4\" >energyHeating</th>        <th class=\"col_heading level0 col5\" >tecator</th>        <th class=\"col_heading level0 col6\" >towerData</th>        <th class=\"col_heading level0 col7\" >wineRed</th>        <th class=\"col_heading level0 col8\" >wineWhite</th>        <th class=\"col_heading level0 col9\" >yacht</th>    </tr></thead><tbody>\n",
       "                <tr>\n",
       "                        <th id=\"T_8929ea2c_ed3e_11ea_a435_94de80ab69b4level0_row0\" class=\"row_heading level0 row0\" >elnet</th>\n",
       "                        <td id=\"T_8929ea2c_ed3e_11ea_a435_94de80ab69b4row0_col0\" class=\"data row0 col0\" >$43.7\\pm0.18$</td>\n",
       "                        <td id=\"T_8929ea2c_ed3e_11ea_a435_94de80ab69b4row0_col1\" class=\"data row0 col1\" >$4.82\\pm0.04$</td>\n",
       "                        <td id=\"T_8929ea2c_ed3e_11ea_a435_94de80ab69b4row0_col2\" class=\"data row0 col2\" >$10.47\\pm0.12$</td>\n",
       "                        <td id=\"T_8929ea2c_ed3e_11ea_a435_94de80ab69b4row0_col3\" class=\"data row0 col3\" >$3.22\\pm0.02$</td>\n",
       "                        <td id=\"T_8929ea2c_ed3e_11ea_a435_94de80ab69b4row0_col4\" class=\"data row0 col4\" >$2.96\\pm0.05$</td>\n",
       "                        <td id=\"T_8929ea2c_ed3e_11ea_a435_94de80ab69b4row0_col5\" class=\"data row0 col5\" >$0.8\\pm0.03$</td>\n",
       "                        <td id=\"T_8929ea2c_ed3e_11ea_a435_94de80ab69b4row0_col6\" class=\"data row0 col6\" >$30.66\\pm1.03$</td>\n",
       "                        <td id=\"T_8929ea2c_ed3e_11ea_a435_94de80ab69b4row0_col7\" class=\"data row0 col7\" >$0.65\\pm0.01$</td>\n",
       "                        <td id=\"T_8929ea2c_ed3e_11ea_a435_94de80ab69b4row0_col8\" class=\"data row0 col8\" >$0.75\\pm0.0$</td>\n",
       "                        <td id=\"T_8929ea2c_ed3e_11ea_a435_94de80ab69b4row0_col9\" class=\"data row0 col9\" >$8.94\\pm0.15$</td>\n",
       "            </tr>\n",
       "            <tr>\n",
       "                        <th id=\"T_8929ea2c_ed3e_11ea_a435_94de80ab69b4level0_row1\" class=\"row_heading level0 row1\" >lasso</th>\n",
       "                        <td id=\"T_8929ea2c_ed3e_11ea_a435_94de80ab69b4row1_col0\" class=\"data row1 col0\" >$43.85\\pm0.27$</td>\n",
       "                        <td id=\"T_8929ea2c_ed3e_11ea_a435_94de80ab69b4row1_col1\" class=\"data row1 col1\" >$4.82\\pm0.04$</td>\n",
       "                        <td id=\"T_8929ea2c_ed3e_11ea_a435_94de80ab69b4row1_col2\" class=\"data row1 col2\" >$10.47\\pm0.12$</td>\n",
       "                        <td id=\"T_8929ea2c_ed3e_11ea_a435_94de80ab69b4row1_col3\" class=\"data row1 col3\" >$3.22\\pm0.02$</td>\n",
       "                        <td id=\"T_8929ea2c_ed3e_11ea_a435_94de80ab69b4row1_col4\" class=\"data row1 col4\" >$2.96\\pm0.05$</td>\n",
       "                        <td id=\"T_8929ea2c_ed3e_11ea_a435_94de80ab69b4row1_col5\" class=\"data row1 col5\" >$0.82\\pm0.06$</td>\n",
       "                        <td id=\"T_8929ea2c_ed3e_11ea_a435_94de80ab69b4row1_col6\" class=\"data row1 col6\" >$30.87\\pm1.14$</td>\n",
       "                        <td id=\"T_8929ea2c_ed3e_11ea_a435_94de80ab69b4row1_col7\" class=\"data row1 col7\" >$0.65\\pm0.01$</td>\n",
       "                        <td id=\"T_8929ea2c_ed3e_11ea_a435_94de80ab69b4row1_col8\" class=\"data row1 col8\" >$0.75\\pm0.0$</td>\n",
       "                        <td id=\"T_8929ea2c_ed3e_11ea_a435_94de80ab69b4row1_col9\" class=\"data row1 col9\" >$8.94\\pm0.15$</td>\n",
       "            </tr>\n",
       "            <tr>\n",
       "                        <th id=\"T_8929ea2c_ed3e_11ea_a435_94de80ab69b4level0_row2\" class=\"row_heading level0 row2\" >lassolars</th>\n",
       "                        <td id=\"T_8929ea2c_ed3e_11ea_a435_94de80ab69b4row2_col0\" class=\"data row2 col0\" >$44.42\\pm0.11$</td>\n",
       "                        <td id=\"T_8929ea2c_ed3e_11ea_a435_94de80ab69b4row2_col1\" class=\"data row2 col1\" >$4.82\\pm0.04$</td>\n",
       "                        <td id=\"T_8929ea2c_ed3e_11ea_a435_94de80ab69b4row2_col2\" class=\"data row2 col2\" >$10.47\\pm0.12$</td>\n",
       "                        <td id=\"T_8929ea2c_ed3e_11ea_a435_94de80ab69b4row2_col3\" class=\"data row2 col3\" >$3.22\\pm0.02$</td>\n",
       "                        <td id=\"T_8929ea2c_ed3e_11ea_a435_94de80ab69b4row2_col4\" class=\"data row2 col4\" >$2.96\\pm0.05$</td>\n",
       "                        <td id=\"T_8929ea2c_ed3e_11ea_a435_94de80ab69b4row2_col5\" class=\"data row2 col5\" >$0.8\\pm0.06$</td>\n",
       "                        <td id=\"T_8929ea2c_ed3e_11ea_a435_94de80ab69b4row2_col6\" class=\"data row2 col6\" >$30.65\\pm1.23$</td>\n",
       "                        <td id=\"T_8929ea2c_ed3e_11ea_a435_94de80ab69b4row2_col7\" class=\"data row2 col7\" >$0.65\\pm0.01$</td>\n",
       "                        <td id=\"T_8929ea2c_ed3e_11ea_a435_94de80ab69b4row2_col8\" class=\"data row2 col8\" >$0.75\\pm0.0$</td>\n",
       "                        <td id=\"T_8929ea2c_ed3e_11ea_a435_94de80ab69b4row2_col9\" class=\"data row2 col9\" >$8.95\\pm0.16$</td>\n",
       "            </tr>\n",
       "            <tr>\n",
       "                        <th id=\"T_8929ea2c_ed3e_11ea_a435_94de80ab69b4level0_row3\" class=\"row_heading level0 row3\" >ridge</th>\n",
       "                        <td id=\"T_8929ea2c_ed3e_11ea_a435_94de80ab69b4row3_col0\" class=\"data row3 col0\" >$43.72\\pm0.26$</td>\n",
       "                        <td id=\"T_8929ea2c_ed3e_11ea_a435_94de80ab69b4row3_col1\" class=\"data row3 col1\" >$4.82\\pm0.04$</td>\n",
       "                        <td id=\"T_8929ea2c_ed3e_11ea_a435_94de80ab69b4row3_col2\" class=\"data row3 col2\" >$10.47\\pm0.12$</td>\n",
       "                        <td id=\"T_8929ea2c_ed3e_11ea_a435_94de80ab69b4row3_col3\" class=\"data row3 col3\" >$3.22\\pm0.02$</td>\n",
       "                        <td id=\"T_8929ea2c_ed3e_11ea_a435_94de80ab69b4row3_col4\" class=\"data row3 col4\" >$2.96\\pm0.05$</td>\n",
       "                        <td id=\"T_8929ea2c_ed3e_11ea_a435_94de80ab69b4row3_col5\" class=\"data row3 col5\" >$0.8\\pm0.04$</td>\n",
       "                        <td id=\"T_8929ea2c_ed3e_11ea_a435_94de80ab69b4row3_col6\" class=\"data row3 col6\" >$30.31\\pm1.05$</td>\n",
       "                        <td id=\"T_8929ea2c_ed3e_11ea_a435_94de80ab69b4row3_col7\" class=\"data row3 col7\" >$0.65\\pm0.01$</td>\n",
       "                        <td id=\"T_8929ea2c_ed3e_11ea_a435_94de80ab69b4row3_col8\" class=\"data row3 col8\" >$0.75\\pm0.0$</td>\n",
       "                        <td id=\"T_8929ea2c_ed3e_11ea_a435_94de80ab69b4row3_col9\" class=\"data row3 col9\" >$8.95\\pm0.16$</td>\n",
       "            </tr>\n",
       "    </tbody></table>"
      ],
      "text/plain": [
       "<pandas.io.formats.style.Styler at 0x7f15cd7c3580>"
      ]
     },
     "metadata": {},
     "output_type": "display_data"
    }
   ],
   "source": [
    "# Separando por grupos\n",
    "display(Markdown('# Partição de treino'))\n",
    "\n",
    "display(Markdown('## Grupo 1 - GSGP, GP, DCGP, ITEA, SymTree, FEAT'))\n",
    "display(pd.concat([\n",
    "    alg for alg in RMSES_train if alg.name in ['GSGP(novo)', 'gplearn', 'dcgp']\n",
    "], axis=1).T.style.apply(highlight_min))\n",
    "\n",
    "display(Markdown('## Grupo 2 - KNN, Forest, Tree'))\n",
    "display(pd.concat([\n",
    "    alg for alg in RMSES_train if alg.name in ['knn', 'forest', 'tree']\n",
    "], axis=1).T.style.apply(highlight_min))\n",
    "\n",
    "display(Markdown('## Grupo 3 - ElNet, Lasso, Lars, Ridge'))\n",
    "display(pd.concat([\n",
    "    alg for alg in RMSES_train if alg.name in ['elnet', 'lasso', 'lassolars', 'ridge']\n",
    "], axis=1).T.style.apply(highlight_min))"
   ]
  },
  {
   "cell_type": "code",
   "execution_count": 22,
   "metadata": {},
   "outputs": [
    {
     "data": {
      "text/markdown": [
       "# Partição de teste"
      ],
      "text/plain": [
       "<IPython.core.display.Markdown object>"
      ]
     },
     "metadata": {},
     "output_type": "display_data"
    },
    {
     "data": {
      "text/markdown": [
       "## Grupo 1 - GSGP, GP, DCGP, ITEA, SymTree, FEAT"
      ],
      "text/plain": [
       "<IPython.core.display.Markdown object>"
      ]
     },
     "metadata": {},
     "output_type": "display_data"
    },
    {
     "data": {
      "text/html": [
       "<style  type=\"text/css\" >\n",
       "#T_896e865a_ed3e_11ea_a435_94de80ab69b4row0_col0,#T_896e865a_ed3e_11ea_a435_94de80ab69b4row0_col4,#T_896e865a_ed3e_11ea_a435_94de80ab69b4row0_col5,#T_896e865a_ed3e_11ea_a435_94de80ab69b4row0_col7,#T_896e865a_ed3e_11ea_a435_94de80ab69b4row0_col8,#T_896e865a_ed3e_11ea_a435_94de80ab69b4row1_col1,#T_896e865a_ed3e_11ea_a435_94de80ab69b4row1_col2,#T_896e865a_ed3e_11ea_a435_94de80ab69b4row2_col3,#T_896e865a_ed3e_11ea_a435_94de80ab69b4row2_col6,#T_896e865a_ed3e_11ea_a435_94de80ab69b4row2_col9{\n",
       "            background-color:  lightgreen;\n",
       "        }</style><table id=\"T_896e865a_ed3e_11ea_a435_94de80ab69b4\" ><thead>    <tr>        <th class=\"index_name level0\" >dataset</th>        <th class=\"col_heading level0 col0\" >Geographical</th>        <th class=\"col_heading level0 col1\" >airfoil</th>        <th class=\"col_heading level0 col2\" >concrete</th>        <th class=\"col_heading level0 col3\" >energyCooling</th>        <th class=\"col_heading level0 col4\" >energyHeating</th>        <th class=\"col_heading level0 col5\" >tecator</th>        <th class=\"col_heading level0 col6\" >towerData</th>        <th class=\"col_heading level0 col7\" >wineRed</th>        <th class=\"col_heading level0 col8\" >wineWhite</th>        <th class=\"col_heading level0 col9\" >yacht</th>    </tr></thead><tbody>\n",
       "                <tr>\n",
       "                        <th id=\"T_896e865a_ed3e_11ea_a435_94de80ab69b4level0_row0\" class=\"row_heading level0 row0\" >GSGP(novo)</th>\n",
       "                        <td id=\"T_896e865a_ed3e_11ea_a435_94de80ab69b4row0_col0\" class=\"data row0 col0\" >$44.35\\pm1.51$</td>\n",
       "                        <td id=\"T_896e865a_ed3e_11ea_a435_94de80ab69b4row0_col1\" class=\"data row0 col1\" >$10.6\\pm4.35$</td>\n",
       "                        <td id=\"T_896e865a_ed3e_11ea_a435_94de80ab69b4row0_col2\" class=\"data row0 col2\" >$7.86\\pm1.1$</td>\n",
       "                        <td id=\"T_896e865a_ed3e_11ea_a435_94de80ab69b4row0_col3\" class=\"data row0 col3\" >$2.13\\pm0.42$</td>\n",
       "                        <td id=\"T_896e865a_ed3e_11ea_a435_94de80ab69b4row0_col4\" class=\"data row0 col4\" >$1.57\\pm0.46$</td>\n",
       "                        <td id=\"T_896e865a_ed3e_11ea_a435_94de80ab69b4row0_col5\" class=\"data row0 col5\" >$1.41\\pm0.56$</td>\n",
       "                        <td id=\"T_896e865a_ed3e_11ea_a435_94de80ab69b4row0_col6\" class=\"data row0 col6\" >$64.0\\pm5.15$</td>\n",
       "                        <td id=\"T_896e865a_ed3e_11ea_a435_94de80ab69b4row0_col7\" class=\"data row0 col7\" >$0.64\\pm0.03$</td>\n",
       "                        <td id=\"T_896e865a_ed3e_11ea_a435_94de80ab69b4row0_col8\" class=\"data row0 col8\" >$0.74\\pm0.02$</td>\n",
       "                        <td id=\"T_896e865a_ed3e_11ea_a435_94de80ab69b4row0_col9\" class=\"data row0 col9\" >$9.03\\pm1.03$</td>\n",
       "            </tr>\n",
       "            <tr>\n",
       "                        <th id=\"T_896e865a_ed3e_11ea_a435_94de80ab69b4level0_row1\" class=\"row_heading level0 row1\" >gplearn</th>\n",
       "                        <td id=\"T_896e865a_ed3e_11ea_a435_94de80ab69b4row1_col0\" class=\"data row1 col0\" >$49.72\\pm2.94$</td>\n",
       "                        <td id=\"T_896e865a_ed3e_11ea_a435_94de80ab69b4row1_col1\" class=\"data row1 col1\" >$10.31\\pm7.21$</td>\n",
       "                        <td id=\"T_896e865a_ed3e_11ea_a435_94de80ab69b4row1_col2\" class=\"data row1 col2\" >$13.65\\pm2.09$</td>\n",
       "                        <td id=\"T_896e865a_ed3e_11ea_a435_94de80ab69b4row1_col3\" class=\"data row1 col3\" >$4.46\\pm0.9$</td>\n",
       "                        <td id=\"T_896e865a_ed3e_11ea_a435_94de80ab69b4row1_col4\" class=\"data row1 col4\" >$4.67\\pm0.97$</td>\n",
       "                        <td id=\"T_896e865a_ed3e_11ea_a435_94de80ab69b4row1_col5\" class=\"data row1 col5\" >$3.05\\pm0.7$</td>\n",
       "                        <td id=\"T_896e865a_ed3e_11ea_a435_94de80ab69b4row1_col6\" class=\"data row1 col6\" >$68.61\\pm6.59$</td>\n",
       "                        <td id=\"T_896e865a_ed3e_11ea_a435_94de80ab69b4row1_col7\" class=\"data row1 col7\" >$0.79\\pm0.07$</td>\n",
       "                        <td id=\"T_896e865a_ed3e_11ea_a435_94de80ab69b4row1_col8\" class=\"data row1 col8\" >$0.88\\pm0.05$</td>\n",
       "                        <td id=\"T_896e865a_ed3e_11ea_a435_94de80ab69b4row1_col9\" class=\"data row1 col9\" >$6.68\\pm2.94$</td>\n",
       "            </tr>\n",
       "            <tr>\n",
       "                        <th id=\"T_896e865a_ed3e_11ea_a435_94de80ab69b4level0_row2\" class=\"row_heading level0 row2\" >dcgp</th>\n",
       "                        <td id=\"T_896e865a_ed3e_11ea_a435_94de80ab69b4row2_col0\" class=\"data row2 col0\" >$63.75\\pm46.9$</td>\n",
       "                        <td id=\"T_896e865a_ed3e_11ea_a435_94de80ab69b4row2_col1\" class=\"data row2 col1\" >$7.55\\pm1.38$</td>\n",
       "                        <td id=\"T_896e865a_ed3e_11ea_a435_94de80ab69b4row2_col2\" class=\"data row2 col2\" >$19.5\\pm2.27$</td>\n",
       "                        <td id=\"T_896e865a_ed3e_11ea_a435_94de80ab69b4row2_col3\" class=\"data row2 col3\" >$12.84\\pm2.25$</td>\n",
       "                        <td id=\"T_896e865a_ed3e_11ea_a435_94de80ab69b4row2_col4\" class=\"data row2 col4\" >$13.67\\pm1.88$</td>\n",
       "                        <td id=\"T_896e865a_ed3e_11ea_a435_94de80ab69b4row2_col5\" class=\"data row2 col5\" >$4.1\\pm0.43$</td>\n",
       "                        <td id=\"T_896e865a_ed3e_11ea_a435_94de80ab69b4row2_col6\" class=\"data row2 col6\" >$106.93\\pm24.39$</td>\n",
       "                        <td id=\"T_896e865a_ed3e_11ea_a435_94de80ab69b4row2_col7\" class=\"data row2 col7\" >$1.14\\pm0.97$</td>\n",
       "                        <td id=\"T_896e865a_ed3e_11ea_a435_94de80ab69b4row2_col8\" class=\"data row2 col8\" >$1.14\\pm0.83$</td>\n",
       "                        <td id=\"T_896e865a_ed3e_11ea_a435_94de80ab69b4row2_col9\" class=\"data row2 col9\" >$17.01\\pm2.2$</td>\n",
       "            </tr>\n",
       "    </tbody></table>"
      ],
      "text/plain": [
       "<pandas.io.formats.style.Styler at 0x7f15a11cc9a0>"
      ]
     },
     "metadata": {},
     "output_type": "display_data"
    },
    {
     "data": {
      "text/markdown": [
       "## Grupo 2 - KNN, Forest, Tree"
      ],
      "text/plain": [
       "<IPython.core.display.Markdown object>"
      ]
     },
     "metadata": {},
     "output_type": "display_data"
    },
    {
     "data": {
      "text/html": [
       "<style  type=\"text/css\" >\n",
       "#T_8971f0d8_ed3e_11ea_a435_94de80ab69b4row0_col0,#T_8971f0d8_ed3e_11ea_a435_94de80ab69b4row0_col1,#T_8971f0d8_ed3e_11ea_a435_94de80ab69b4row0_col2,#T_8971f0d8_ed3e_11ea_a435_94de80ab69b4row0_col3,#T_8971f0d8_ed3e_11ea_a435_94de80ab69b4row0_col5,#T_8971f0d8_ed3e_11ea_a435_94de80ab69b4row0_col7,#T_8971f0d8_ed3e_11ea_a435_94de80ab69b4row0_col8,#T_8971f0d8_ed3e_11ea_a435_94de80ab69b4row0_col9,#T_8971f0d8_ed3e_11ea_a435_94de80ab69b4row1_col6,#T_8971f0d8_ed3e_11ea_a435_94de80ab69b4row2_col4{\n",
       "            background-color:  lightgreen;\n",
       "        }</style><table id=\"T_8971f0d8_ed3e_11ea_a435_94de80ab69b4\" ><thead>    <tr>        <th class=\"index_name level0\" >dataset</th>        <th class=\"col_heading level0 col0\" >Geographical</th>        <th class=\"col_heading level0 col1\" >airfoil</th>        <th class=\"col_heading level0 col2\" >concrete</th>        <th class=\"col_heading level0 col3\" >energyCooling</th>        <th class=\"col_heading level0 col4\" >energyHeating</th>        <th class=\"col_heading level0 col5\" >tecator</th>        <th class=\"col_heading level0 col6\" >towerData</th>        <th class=\"col_heading level0 col7\" >wineRed</th>        <th class=\"col_heading level0 col8\" >wineWhite</th>        <th class=\"col_heading level0 col9\" >yacht</th>    </tr></thead><tbody>\n",
       "                <tr>\n",
       "                        <th id=\"T_8971f0d8_ed3e_11ea_a435_94de80ab69b4level0_row0\" class=\"row_heading level0 row0\" >forest</th>\n",
       "                        <td id=\"T_8971f0d8_ed3e_11ea_a435_94de80ab69b4row0_col0\" class=\"data row0 col0\" >$25.78\\pm3.65$</td>\n",
       "                        <td id=\"T_8971f0d8_ed3e_11ea_a435_94de80ab69b4row0_col1\" class=\"data row0 col1\" >$2.37\\pm0.07$</td>\n",
       "                        <td id=\"T_8971f0d8_ed3e_11ea_a435_94de80ab69b4row0_col2\" class=\"data row0 col2\" >$5.25\\pm0.32$</td>\n",
       "                        <td id=\"T_8971f0d8_ed3e_11ea_a435_94de80ab69b4row0_col3\" class=\"data row0 col3\" >$1.79\\pm0.12$</td>\n",
       "                        <td id=\"T_8971f0d8_ed3e_11ea_a435_94de80ab69b4row0_col4\" class=\"data row0 col4\" >$0.57\\pm0.1$</td>\n",
       "                        <td id=\"T_8971f0d8_ed3e_11ea_a435_94de80ab69b4row0_col5\" class=\"data row0 col5\" >$1.25\\pm0.12$</td>\n",
       "                        <td id=\"T_8971f0d8_ed3e_11ea_a435_94de80ab69b4row0_col6\" class=\"data row0 col6\" >$17.69\\pm1.27$</td>\n",
       "                        <td id=\"T_8971f0d8_ed3e_11ea_a435_94de80ab69b4row0_col7\" class=\"data row0 col7\" >$0.58\\pm0.04$</td>\n",
       "                        <td id=\"T_8971f0d8_ed3e_11ea_a435_94de80ab69b4row0_col8\" class=\"data row0 col8\" >$0.66\\pm0.01$</td>\n",
       "                        <td id=\"T_8971f0d8_ed3e_11ea_a435_94de80ab69b4row0_col9\" class=\"data row0 col9\" >$1.07\\pm0.31$</td>\n",
       "            </tr>\n",
       "            <tr>\n",
       "                        <th id=\"T_8971f0d8_ed3e_11ea_a435_94de80ab69b4level0_row1\" class=\"row_heading level0 row1\" >knn</th>\n",
       "                        <td id=\"T_8971f0d8_ed3e_11ea_a435_94de80ab69b4row1_col0\" class=\"data row1 col0\" >$31.17\\pm0.87$</td>\n",
       "                        <td id=\"T_8971f0d8_ed3e_11ea_a435_94de80ab69b4row1_col1\" class=\"data row1 col1\" >$5.86\\pm0.26$</td>\n",
       "                        <td id=\"T_8971f0d8_ed3e_11ea_a435_94de80ab69b4row1_col2\" class=\"data row1 col2\" >$7.85\\pm0.73$</td>\n",
       "                        <td id=\"T_8971f0d8_ed3e_11ea_a435_94de80ab69b4row1_col3\" class=\"data row1 col3\" >$1.92\\pm0.13$</td>\n",
       "                        <td id=\"T_8971f0d8_ed3e_11ea_a435_94de80ab69b4row1_col4\" class=\"data row1 col4\" >$2.32\\pm0.42$</td>\n",
       "                        <td id=\"T_8971f0d8_ed3e_11ea_a435_94de80ab69b4row1_col5\" class=\"data row1 col5\" >$1.29\\pm0.09$</td>\n",
       "                        <td id=\"T_8971f0d8_ed3e_11ea_a435_94de80ab69b4row1_col6\" class=\"data row1 col6\" >$14.81\\pm0.85$</td>\n",
       "                        <td id=\"T_8971f0d8_ed3e_11ea_a435_94de80ab69b4row1_col7\" class=\"data row1 col7\" >$0.66\\pm0.05$</td>\n",
       "                        <td id=\"T_8971f0d8_ed3e_11ea_a435_94de80ab69b4row1_col8\" class=\"data row1 col8\" >$0.69\\pm0.02$</td>\n",
       "                        <td id=\"T_8971f0d8_ed3e_11ea_a435_94de80ab69b4row1_col9\" class=\"data row1 col9\" >$7.56\\pm1.31$</td>\n",
       "            </tr>\n",
       "            <tr>\n",
       "                        <th id=\"T_8971f0d8_ed3e_11ea_a435_94de80ab69b4level0_row2\" class=\"row_heading level0 row2\" >tree</th>\n",
       "                        <td id=\"T_8971f0d8_ed3e_11ea_a435_94de80ab69b4row2_col0\" class=\"data row2 col0\" >$31.92\\pm7.42$</td>\n",
       "                        <td id=\"T_8971f0d8_ed3e_11ea_a435_94de80ab69b4row2_col1\" class=\"data row2 col1\" >$2.93\\pm0.1$</td>\n",
       "                        <td id=\"T_8971f0d8_ed3e_11ea_a435_94de80ab69b4row2_col2\" class=\"data row2 col2\" >$6.5\\pm0.5$</td>\n",
       "                        <td id=\"T_8971f0d8_ed3e_11ea_a435_94de80ab69b4row2_col3\" class=\"data row2 col3\" >$1.85\\pm0.14$</td>\n",
       "                        <td id=\"T_8971f0d8_ed3e_11ea_a435_94de80ab69b4row2_col4\" class=\"data row2 col4\" >$0.57\\pm0.07$</td>\n",
       "                        <td id=\"T_8971f0d8_ed3e_11ea_a435_94de80ab69b4row2_col5\" class=\"data row2 col5\" >$1.68\\pm0.15$</td>\n",
       "                        <td id=\"T_8971f0d8_ed3e_11ea_a435_94de80ab69b4row2_col6\" class=\"data row2 col6\" >$20.09\\pm1.02$</td>\n",
       "                        <td id=\"T_8971f0d8_ed3e_11ea_a435_94de80ab69b4row2_col7\" class=\"data row2 col7\" >$0.69\\pm0.06$</td>\n",
       "                        <td id=\"T_8971f0d8_ed3e_11ea_a435_94de80ab69b4row2_col8\" class=\"data row2 col8\" >$0.75\\pm0.02$</td>\n",
       "                        <td id=\"T_8971f0d8_ed3e_11ea_a435_94de80ab69b4row2_col9\" class=\"data row2 col9\" >$1.44\\pm0.26$</td>\n",
       "            </tr>\n",
       "    </tbody></table>"
      ],
      "text/plain": [
       "<pandas.io.formats.style.Styler at 0x7f15a11200a0>"
      ]
     },
     "metadata": {},
     "output_type": "display_data"
    },
    {
     "data": {
      "text/markdown": [
       "## Grupo 3 - ElNet, Lasso, Lars, Ridge"
      ],
      "text/plain": [
       "<IPython.core.display.Markdown object>"
      ]
     },
     "metadata": {},
     "output_type": "display_data"
    },
    {
     "data": {
      "text/html": [
       "<style  type=\"text/css\" >\n",
       "#T_89754dfa_ed3e_11ea_a435_94de80ab69b4row0_col1,#T_89754dfa_ed3e_11ea_a435_94de80ab69b4row0_col2,#T_89754dfa_ed3e_11ea_a435_94de80ab69b4row0_col3,#T_89754dfa_ed3e_11ea_a435_94de80ab69b4row0_col4,#T_89754dfa_ed3e_11ea_a435_94de80ab69b4row0_col7,#T_89754dfa_ed3e_11ea_a435_94de80ab69b4row0_col8,#T_89754dfa_ed3e_11ea_a435_94de80ab69b4row1_col1,#T_89754dfa_ed3e_11ea_a435_94de80ab69b4row1_col2,#T_89754dfa_ed3e_11ea_a435_94de80ab69b4row1_col3,#T_89754dfa_ed3e_11ea_a435_94de80ab69b4row1_col4,#T_89754dfa_ed3e_11ea_a435_94de80ab69b4row1_col7,#T_89754dfa_ed3e_11ea_a435_94de80ab69b4row1_col8,#T_89754dfa_ed3e_11ea_a435_94de80ab69b4row2_col1,#T_89754dfa_ed3e_11ea_a435_94de80ab69b4row2_col2,#T_89754dfa_ed3e_11ea_a435_94de80ab69b4row2_col3,#T_89754dfa_ed3e_11ea_a435_94de80ab69b4row2_col4,#T_89754dfa_ed3e_11ea_a435_94de80ab69b4row2_col6,#T_89754dfa_ed3e_11ea_a435_94de80ab69b4row2_col7,#T_89754dfa_ed3e_11ea_a435_94de80ab69b4row2_col8,#T_89754dfa_ed3e_11ea_a435_94de80ab69b4row2_col9,#T_89754dfa_ed3e_11ea_a435_94de80ab69b4row3_col0,#T_89754dfa_ed3e_11ea_a435_94de80ab69b4row3_col1,#T_89754dfa_ed3e_11ea_a435_94de80ab69b4row3_col2,#T_89754dfa_ed3e_11ea_a435_94de80ab69b4row3_col3,#T_89754dfa_ed3e_11ea_a435_94de80ab69b4row3_col4,#T_89754dfa_ed3e_11ea_a435_94de80ab69b4row3_col5,#T_89754dfa_ed3e_11ea_a435_94de80ab69b4row3_col7,#T_89754dfa_ed3e_11ea_a435_94de80ab69b4row3_col8{\n",
       "            background-color:  lightgreen;\n",
       "        }</style><table id=\"T_89754dfa_ed3e_11ea_a435_94de80ab69b4\" ><thead>    <tr>        <th class=\"index_name level0\" >dataset</th>        <th class=\"col_heading level0 col0\" >Geographical</th>        <th class=\"col_heading level0 col1\" >airfoil</th>        <th class=\"col_heading level0 col2\" >concrete</th>        <th class=\"col_heading level0 col3\" >energyCooling</th>        <th class=\"col_heading level0 col4\" >energyHeating</th>        <th class=\"col_heading level0 col5\" >tecator</th>        <th class=\"col_heading level0 col6\" >towerData</th>        <th class=\"col_heading level0 col7\" >wineRed</th>        <th class=\"col_heading level0 col8\" >wineWhite</th>        <th class=\"col_heading level0 col9\" >yacht</th>    </tr></thead><tbody>\n",
       "                <tr>\n",
       "                        <th id=\"T_89754dfa_ed3e_11ea_a435_94de80ab69b4level0_row0\" class=\"row_heading level0 row0\" >elnet</th>\n",
       "                        <td id=\"T_89754dfa_ed3e_11ea_a435_94de80ab69b4row0_col0\" class=\"data row0 col0\" >$43.21\\pm1.16$</td>\n",
       "                        <td id=\"T_89754dfa_ed3e_11ea_a435_94de80ab69b4row0_col1\" class=\"data row0 col1\" >$4.82\\pm0.17$</td>\n",
       "                        <td id=\"T_89754dfa_ed3e_11ea_a435_94de80ab69b4row0_col2\" class=\"data row0 col2\" >$10.44\\pm0.49$</td>\n",
       "                        <td id=\"T_89754dfa_ed3e_11ea_a435_94de80ab69b4row0_col3\" class=\"data row0 col3\" >$3.21\\pm0.11$</td>\n",
       "                        <td id=\"T_89754dfa_ed3e_11ea_a435_94de80ab69b4row0_col4\" class=\"data row0 col4\" >$2.94\\pm0.19$</td>\n",
       "                        <td id=\"T_89754dfa_ed3e_11ea_a435_94de80ab69b4row0_col5\" class=\"data row0 col5\" >$0.75\\pm0.08$</td>\n",
       "                        <td id=\"T_89754dfa_ed3e_11ea_a435_94de80ab69b4row0_col6\" class=\"data row0 col6\" >$31.17\\pm3.5$</td>\n",
       "                        <td id=\"T_89754dfa_ed3e_11ea_a435_94de80ab69b4row0_col7\" class=\"data row0 col7\" >$0.65\\pm0.03$</td>\n",
       "                        <td id=\"T_89754dfa_ed3e_11ea_a435_94de80ab69b4row0_col8\" class=\"data row0 col8\" >$0.75\\pm0.01$</td>\n",
       "                        <td id=\"T_89754dfa_ed3e_11ea_a435_94de80ab69b4row0_col9\" class=\"data row0 col9\" >$8.97\\pm0.71$</td>\n",
       "            </tr>\n",
       "            <tr>\n",
       "                        <th id=\"T_89754dfa_ed3e_11ea_a435_94de80ab69b4level0_row1\" class=\"row_heading level0 row1\" >lasso</th>\n",
       "                        <td id=\"T_89754dfa_ed3e_11ea_a435_94de80ab69b4row1_col0\" class=\"data row1 col0\" >$43.28\\pm1.02$</td>\n",
       "                        <td id=\"T_89754dfa_ed3e_11ea_a435_94de80ab69b4row1_col1\" class=\"data row1 col1\" >$4.82\\pm0.17$</td>\n",
       "                        <td id=\"T_89754dfa_ed3e_11ea_a435_94de80ab69b4row1_col2\" class=\"data row1 col2\" >$10.44\\pm0.49$</td>\n",
       "                        <td id=\"T_89754dfa_ed3e_11ea_a435_94de80ab69b4row1_col3\" class=\"data row1 col3\" >$3.21\\pm0.11$</td>\n",
       "                        <td id=\"T_89754dfa_ed3e_11ea_a435_94de80ab69b4row1_col4\" class=\"data row1 col4\" >$2.94\\pm0.19$</td>\n",
       "                        <td id=\"T_89754dfa_ed3e_11ea_a435_94de80ab69b4row1_col5\" class=\"data row1 col5\" >$0.76\\pm0.09$</td>\n",
       "                        <td id=\"T_89754dfa_ed3e_11ea_a435_94de80ab69b4row1_col6\" class=\"data row1 col6\" >$30.92\\pm3.67$</td>\n",
       "                        <td id=\"T_89754dfa_ed3e_11ea_a435_94de80ab69b4row1_col7\" class=\"data row1 col7\" >$0.65\\pm0.03$</td>\n",
       "                        <td id=\"T_89754dfa_ed3e_11ea_a435_94de80ab69b4row1_col8\" class=\"data row1 col8\" >$0.75\\pm0.01$</td>\n",
       "                        <td id=\"T_89754dfa_ed3e_11ea_a435_94de80ab69b4row1_col9\" class=\"data row1 col9\" >$8.94\\pm0.7$</td>\n",
       "            </tr>\n",
       "            <tr>\n",
       "                        <th id=\"T_89754dfa_ed3e_11ea_a435_94de80ab69b4level0_row2\" class=\"row_heading level0 row2\" >lassolars</th>\n",
       "                        <td id=\"T_89754dfa_ed3e_11ea_a435_94de80ab69b4row2_col0\" class=\"data row2 col0\" >$43.92\\pm1.01$</td>\n",
       "                        <td id=\"T_89754dfa_ed3e_11ea_a435_94de80ab69b4row2_col1\" class=\"data row2 col1\" >$4.82\\pm0.17$</td>\n",
       "                        <td id=\"T_89754dfa_ed3e_11ea_a435_94de80ab69b4row2_col2\" class=\"data row2 col2\" >$10.44\\pm0.49$</td>\n",
       "                        <td id=\"T_89754dfa_ed3e_11ea_a435_94de80ab69b4row2_col3\" class=\"data row2 col3\" >$3.21\\pm0.11$</td>\n",
       "                        <td id=\"T_89754dfa_ed3e_11ea_a435_94de80ab69b4row2_col4\" class=\"data row2 col4\" >$2.94\\pm0.19$</td>\n",
       "                        <td id=\"T_89754dfa_ed3e_11ea_a435_94de80ab69b4row2_col5\" class=\"data row2 col5\" >$0.74\\pm0.08$</td>\n",
       "                        <td id=\"T_89754dfa_ed3e_11ea_a435_94de80ab69b4row2_col6\" class=\"data row2 col6\" >$30.56\\pm3.46$</td>\n",
       "                        <td id=\"T_89754dfa_ed3e_11ea_a435_94de80ab69b4row2_col7\" class=\"data row2 col7\" >$0.65\\pm0.03$</td>\n",
       "                        <td id=\"T_89754dfa_ed3e_11ea_a435_94de80ab69b4row2_col8\" class=\"data row2 col8\" >$0.75\\pm0.01$</td>\n",
       "                        <td id=\"T_89754dfa_ed3e_11ea_a435_94de80ab69b4row2_col9\" class=\"data row2 col9\" >$8.93\\pm0.71$</td>\n",
       "            </tr>\n",
       "            <tr>\n",
       "                        <th id=\"T_89754dfa_ed3e_11ea_a435_94de80ab69b4level0_row3\" class=\"row_heading level0 row3\" >ridge</th>\n",
       "                        <td id=\"T_89754dfa_ed3e_11ea_a435_94de80ab69b4row3_col0\" class=\"data row3 col0\" >$42.95\\pm1.26$</td>\n",
       "                        <td id=\"T_89754dfa_ed3e_11ea_a435_94de80ab69b4row3_col1\" class=\"data row3 col1\" >$4.82\\pm0.17$</td>\n",
       "                        <td id=\"T_89754dfa_ed3e_11ea_a435_94de80ab69b4row3_col2\" class=\"data row3 col2\" >$10.44\\pm0.49$</td>\n",
       "                        <td id=\"T_89754dfa_ed3e_11ea_a435_94de80ab69b4row3_col3\" class=\"data row3 col3\" >$3.21\\pm0.11$</td>\n",
       "                        <td id=\"T_89754dfa_ed3e_11ea_a435_94de80ab69b4row3_col4\" class=\"data row3 col4\" >$2.94\\pm0.19$</td>\n",
       "                        <td id=\"T_89754dfa_ed3e_11ea_a435_94de80ab69b4row3_col5\" class=\"data row3 col5\" >$0.74\\pm0.06$</td>\n",
       "                        <td id=\"T_89754dfa_ed3e_11ea_a435_94de80ab69b4row3_col6\" class=\"data row3 col6\" >$30.65\\pm3.53$</td>\n",
       "                        <td id=\"T_89754dfa_ed3e_11ea_a435_94de80ab69b4row3_col7\" class=\"data row3 col7\" >$0.65\\pm0.03$</td>\n",
       "                        <td id=\"T_89754dfa_ed3e_11ea_a435_94de80ab69b4row3_col8\" class=\"data row3 col8\" >$0.75\\pm0.01$</td>\n",
       "                        <td id=\"T_89754dfa_ed3e_11ea_a435_94de80ab69b4row3_col9\" class=\"data row3 col9\" >$8.98\\pm0.69$</td>\n",
       "            </tr>\n",
       "    </tbody></table>"
      ],
      "text/plain": [
       "<pandas.io.formats.style.Styler at 0x7f15a1120ca0>"
      ]
     },
     "metadata": {},
     "output_type": "display_data"
    }
   ],
   "source": [
    "# Separando por grupos\n",
    "\n",
    "display(Markdown('# Partição de teste'))\n",
    "\n",
    "display(Markdown('## Grupo 1 - GSGP, GP, DCGP, ITEA, SymTree, FEAT'))\n",
    "display(pd.concat([\n",
    "    alg for alg in RMSES_test if alg.name in ['GSGP(novo)', 'gplearn', 'dcgp']\n",
    "], axis=1).T.style.apply(highlight_min))\n",
    "\n",
    "display(Markdown('## Grupo 2 - KNN, Forest, Tree'))\n",
    "display(pd.concat([\n",
    "    alg for alg in RMSES_test if alg.name in ['knn', 'forest', 'tree']\n",
    "], axis=1).T.style.apply(highlight_min))\n",
    "\n",
    "display(Markdown('## Grupo 3 - ElNet, Lasso, Lars, Ridge'))\n",
    "display(pd.concat([\n",
    "    alg for alg in RMSES_test if alg.name in ['elnet', 'lasso', 'lassolars', 'ridge']\n",
    "], axis=1).T.style.apply(highlight_min))"
   ]
  },
  {
   "cell_type": "code",
   "execution_count": 53,
   "metadata": {},
   "outputs": [
    {
     "data": {
      "text/markdown": [
       "# Partição de teste"
      ],
      "text/plain": [
       "<IPython.core.display.Markdown object>"
      ]
     },
     "metadata": {},
     "output_type": "display_data"
    },
    {
     "data": {
      "text/plain": [
       "<AxesSubplot:xlabel='dataset'>"
      ]
     },
     "execution_count": 53,
     "metadata": {},
     "output_type": "execute_result"
    },
    {
     "data": {
      "image/png": "[encoded data removed]",
      "text/plain": [
       "<Figure size 1440x504 with 1 Axes>"
      ]
     },
     "metadata": {
      "needs_background": "light"
     },
     "output_type": "display_data"
    }
   ],
   "source": [
    "\n",
    "\n",
    "display(Markdown('# Partição de teste'))\n",
    "df = pd.concat(plot_test, axis=1).T\n",
    "\n",
    "# Ordenando as colunas\n",
    "df = df[[\n",
    "    'airfoil',\n",
    "    'concrete',\n",
    "    'energyCooling',\n",
    "    'energyHeating',\n",
    "    'Geographical',\n",
    "    'towerData',\n",
    "    'tecator',\n",
    "    'wineRed',\n",
    "    'wineWhite',\n",
    "    'yacht',\n",
    "]]\n",
    "\n",
    "fig, ax = plt.subplots(1, 1, figsize=(20, 7))\n",
    "\n",
    "df.T.plot.bar(ax=ax, width=0.8)\n",
    "#df.plot(ax=ax)\n",
    "#df.plot.barh(stacked=True, ax = ax)"
   ]
  },
  {
   "cell_type": "code",
   "execution_count": null,
   "metadata": {},
   "outputs": [],
   "source": []
  }
 ],
 "metadata": {
  "kernelspec": {
   "display_name": "Python 3",
   "language": "python",
   "name": "python3"
  },
  "language_info": {
   "codemirror_mode": {
    "name": "ipython",
    "version": 3
   },
   "file_extension": ".py",
   "mimetype": "text/x-python",
   "name": "python",
   "nbconvert_exporter": "python",
   "pygments_lexer": "ipython3",
   "version": "3.8.2"
  }
 },
 "nbformat": 4,
 "nbformat_minor": 4
}
